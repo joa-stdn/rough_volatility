{
  "nbformat": 4,
  "nbformat_minor": 0,
  "metadata": {
    "colab": {
      "provenance": []
    },
    "kernelspec": {
      "display_name": "Python 3",
      "name": "python3"
    },
    "language_info": {
      "name": "python"
    },
    "widgets": {
      "application/vnd.jupyter.widget-state+json": {
        "0a298bd5ba03475a869d1708db754865": {
          "model_module": "@jupyter-widgets/controls",
          "model_name": "HBoxModel",
          "model_module_version": "1.5.0",
          "state": {
            "_view_name": "HBoxView",
            "_dom_classes": [],
            "_model_name": "HBoxModel",
            "_view_module": "@jupyter-widgets/controls",
            "_model_module_version": "1.5.0",
            "_view_count": null,
            "_view_module_version": "1.5.0",
            "box_style": "",
            "layout": "IPY_MODEL_78a0cbc072d0488385f5fc6427c15867",
            "_model_module": "@jupyter-widgets/controls",
            "children": [
              "IPY_MODEL_dbafff016c94442bbc3894423956952d",
              "IPY_MODEL_e9247e015e134bf59f50c34ae08430ea",
              "IPY_MODEL_c28a9947c4e6454c97da694340f629c7"
            ]
          }
        },
        "78a0cbc072d0488385f5fc6427c15867": {
          "model_module": "@jupyter-widgets/base",
          "model_name": "LayoutModel",
          "model_module_version": "1.2.0",
          "state": {
            "_view_name": "LayoutView",
            "grid_template_rows": null,
            "right": null,
            "justify_content": null,
            "_view_module": "@jupyter-widgets/base",
            "overflow": null,
            "_model_module_version": "1.2.0",
            "_view_count": null,
            "flex_flow": null,
            "width": null,
            "min_width": null,
            "border": null,
            "align_items": null,
            "bottom": null,
            "_model_module": "@jupyter-widgets/base",
            "top": null,
            "grid_column": null,
            "overflow_y": null,
            "overflow_x": null,
            "grid_auto_flow": null,
            "grid_area": null,
            "grid_template_columns": null,
            "flex": null,
            "_model_name": "LayoutModel",
            "justify_items": null,
            "grid_row": null,
            "max_height": null,
            "align_content": null,
            "visibility": null,
            "align_self": null,
            "height": null,
            "min_height": null,
            "padding": null,
            "grid_auto_rows": null,
            "grid_gap": null,
            "max_width": null,
            "order": null,
            "_view_module_version": "1.2.0",
            "grid_template_areas": null,
            "object_position": null,
            "object_fit": null,
            "grid_auto_columns": null,
            "margin": null,
            "display": null,
            "left": null
          }
        },
        "dbafff016c94442bbc3894423956952d": {
          "model_module": "@jupyter-widgets/controls",
          "model_name": "HTMLModel",
          "model_module_version": "1.5.0",
          "state": {
            "_view_name": "HTMLView",
            "style": "IPY_MODEL_5807671033c54cf19d38f968b1f99fc6",
            "_dom_classes": [],
            "description": "",
            "_model_name": "HTMLModel",
            "placeholder": "​",
            "_view_module": "@jupyter-widgets/controls",
            "_model_module_version": "1.5.0",
            "value": "100%",
            "_view_count": null,
            "_view_module_version": "1.5.0",
            "description_tooltip": null,
            "_model_module": "@jupyter-widgets/controls",
            "layout": "IPY_MODEL_c8cb51c897d2480f9f62f41bee61e76b"
          }
        },
        "e9247e015e134bf59f50c34ae08430ea": {
          "model_module": "@jupyter-widgets/controls",
          "model_name": "FloatProgressModel",
          "model_module_version": "1.5.0",
          "state": {
            "_view_name": "ProgressView",
            "style": "IPY_MODEL_149613d62c004580ac990289116ece10",
            "_dom_classes": [],
            "description": "",
            "_model_name": "FloatProgressModel",
            "bar_style": "success",
            "max": 5000,
            "_view_module": "@jupyter-widgets/controls",
            "_model_module_version": "1.5.0",
            "value": 5000,
            "_view_count": null,
            "_view_module_version": "1.5.0",
            "orientation": "horizontal",
            "min": 0,
            "description_tooltip": null,
            "_model_module": "@jupyter-widgets/controls",
            "layout": "IPY_MODEL_e24c6f2803d64e89860c2c91d1090c3e"
          }
        },
        "c28a9947c4e6454c97da694340f629c7": {
          "model_module": "@jupyter-widgets/controls",
          "model_name": "HTMLModel",
          "model_module_version": "1.5.0",
          "state": {
            "_view_name": "HTMLView",
            "style": "IPY_MODEL_26371def4bbf4dc4ac63bda19e75c77b",
            "_dom_classes": [],
            "description": "",
            "_model_name": "HTMLModel",
            "placeholder": "​",
            "_view_module": "@jupyter-widgets/controls",
            "_model_module_version": "1.5.0",
            "value": " 5000/5000 [00:01&lt;00:00, 4553.27it/s]",
            "_view_count": null,
            "_view_module_version": "1.5.0",
            "description_tooltip": null,
            "_model_module": "@jupyter-widgets/controls",
            "layout": "IPY_MODEL_35938a6b1662406681c775340fc494c3"
          }
        },
        "5807671033c54cf19d38f968b1f99fc6": {
          "model_module": "@jupyter-widgets/controls",
          "model_name": "DescriptionStyleModel",
          "model_module_version": "1.5.0",
          "state": {
            "_view_name": "StyleView",
            "_model_name": "DescriptionStyleModel",
            "description_width": "",
            "_view_module": "@jupyter-widgets/base",
            "_model_module_version": "1.5.0",
            "_view_count": null,
            "_view_module_version": "1.2.0",
            "_model_module": "@jupyter-widgets/controls"
          }
        },
        "c8cb51c897d2480f9f62f41bee61e76b": {
          "model_module": "@jupyter-widgets/base",
          "model_name": "LayoutModel",
          "model_module_version": "1.2.0",
          "state": {
            "_view_name": "LayoutView",
            "grid_template_rows": null,
            "right": null,
            "justify_content": null,
            "_view_module": "@jupyter-widgets/base",
            "overflow": null,
            "_model_module_version": "1.2.0",
            "_view_count": null,
            "flex_flow": null,
            "width": null,
            "min_width": null,
            "border": null,
            "align_items": null,
            "bottom": null,
            "_model_module": "@jupyter-widgets/base",
            "top": null,
            "grid_column": null,
            "overflow_y": null,
            "overflow_x": null,
            "grid_auto_flow": null,
            "grid_area": null,
            "grid_template_columns": null,
            "flex": null,
            "_model_name": "LayoutModel",
            "justify_items": null,
            "grid_row": null,
            "max_height": null,
            "align_content": null,
            "visibility": null,
            "align_self": null,
            "height": null,
            "min_height": null,
            "padding": null,
            "grid_auto_rows": null,
            "grid_gap": null,
            "max_width": null,
            "order": null,
            "_view_module_version": "1.2.0",
            "grid_template_areas": null,
            "object_position": null,
            "object_fit": null,
            "grid_auto_columns": null,
            "margin": null,
            "display": null,
            "left": null
          }
        },
        "149613d62c004580ac990289116ece10": {
          "model_module": "@jupyter-widgets/controls",
          "model_name": "ProgressStyleModel",
          "model_module_version": "1.5.0",
          "state": {
            "_view_name": "StyleView",
            "_model_name": "ProgressStyleModel",
            "description_width": "",
            "_view_module": "@jupyter-widgets/base",
            "_model_module_version": "1.5.0",
            "_view_count": null,
            "_view_module_version": "1.2.0",
            "bar_color": null,
            "_model_module": "@jupyter-widgets/controls"
          }
        },
        "e24c6f2803d64e89860c2c91d1090c3e": {
          "model_module": "@jupyter-widgets/base",
          "model_name": "LayoutModel",
          "model_module_version": "1.2.0",
          "state": {
            "_view_name": "LayoutView",
            "grid_template_rows": null,
            "right": null,
            "justify_content": null,
            "_view_module": "@jupyter-widgets/base",
            "overflow": null,
            "_model_module_version": "1.2.0",
            "_view_count": null,
            "flex_flow": null,
            "width": null,
            "min_width": null,
            "border": null,
            "align_items": null,
            "bottom": null,
            "_model_module": "@jupyter-widgets/base",
            "top": null,
            "grid_column": null,
            "overflow_y": null,
            "overflow_x": null,
            "grid_auto_flow": null,
            "grid_area": null,
            "grid_template_columns": null,
            "flex": null,
            "_model_name": "LayoutModel",
            "justify_items": null,
            "grid_row": null,
            "max_height": null,
            "align_content": null,
            "visibility": null,
            "align_self": null,
            "height": null,
            "min_height": null,
            "padding": null,
            "grid_auto_rows": null,
            "grid_gap": null,
            "max_width": null,
            "order": null,
            "_view_module_version": "1.2.0",
            "grid_template_areas": null,
            "object_position": null,
            "object_fit": null,
            "grid_auto_columns": null,
            "margin": null,
            "display": null,
            "left": null
          }
        },
        "26371def4bbf4dc4ac63bda19e75c77b": {
          "model_module": "@jupyter-widgets/controls",
          "model_name": "DescriptionStyleModel",
          "model_module_version": "1.5.0",
          "state": {
            "_view_name": "StyleView",
            "_model_name": "DescriptionStyleModel",
            "description_width": "",
            "_view_module": "@jupyter-widgets/base",
            "_model_module_version": "1.5.0",
            "_view_count": null,
            "_view_module_version": "1.2.0",
            "_model_module": "@jupyter-widgets/controls"
          }
        },
        "35938a6b1662406681c775340fc494c3": {
          "model_module": "@jupyter-widgets/base",
          "model_name": "LayoutModel",
          "model_module_version": "1.2.0",
          "state": {
            "_view_name": "LayoutView",
            "grid_template_rows": null,
            "right": null,
            "justify_content": null,
            "_view_module": "@jupyter-widgets/base",
            "overflow": null,
            "_model_module_version": "1.2.0",
            "_view_count": null,
            "flex_flow": null,
            "width": null,
            "min_width": null,
            "border": null,
            "align_items": null,
            "bottom": null,
            "_model_module": "@jupyter-widgets/base",
            "top": null,
            "grid_column": null,
            "overflow_y": null,
            "overflow_x": null,
            "grid_auto_flow": null,
            "grid_area": null,
            "grid_template_columns": null,
            "flex": null,
            "_model_name": "LayoutModel",
            "justify_items": null,
            "grid_row": null,
            "max_height": null,
            "align_content": null,
            "visibility": null,
            "align_self": null,
            "height": null,
            "min_height": null,
            "padding": null,
            "grid_auto_rows": null,
            "grid_gap": null,
            "max_width": null,
            "order": null,
            "_view_module_version": "1.2.0",
            "grid_template_areas": null,
            "object_position": null,
            "object_fit": null,
            "grid_auto_columns": null,
            "margin": null,
            "display": null,
            "left": null
          }
        },
        "e73251e42b1b4137bbcffab6131b60c2": {
          "model_module": "@jupyter-widgets/controls",
          "model_name": "HBoxModel",
          "model_module_version": "1.5.0",
          "state": {
            "_view_name": "HBoxView",
            "_dom_classes": [],
            "_model_name": "HBoxModel",
            "_view_module": "@jupyter-widgets/controls",
            "_model_module_version": "1.5.0",
            "_view_count": null,
            "_view_module_version": "1.5.0",
            "box_style": "",
            "layout": "IPY_MODEL_5535a350aff04ffca7822fae4cf7ed58",
            "_model_module": "@jupyter-widgets/controls",
            "children": [
              "IPY_MODEL_3bdf4c10172a4ee58246b984fde51fa4",
              "IPY_MODEL_0346befa108f4187a149b020a0899b54",
              "IPY_MODEL_b3d98d3775c24499b1f17f311c92a133"
            ]
          }
        },
        "5535a350aff04ffca7822fae4cf7ed58": {
          "model_module": "@jupyter-widgets/base",
          "model_name": "LayoutModel",
          "model_module_version": "1.2.0",
          "state": {
            "_view_name": "LayoutView",
            "grid_template_rows": null,
            "right": null,
            "justify_content": null,
            "_view_module": "@jupyter-widgets/base",
            "overflow": null,
            "_model_module_version": "1.2.0",
            "_view_count": null,
            "flex_flow": null,
            "width": null,
            "min_width": null,
            "border": null,
            "align_items": null,
            "bottom": null,
            "_model_module": "@jupyter-widgets/base",
            "top": null,
            "grid_column": null,
            "overflow_y": null,
            "overflow_x": null,
            "grid_auto_flow": null,
            "grid_area": null,
            "grid_template_columns": null,
            "flex": null,
            "_model_name": "LayoutModel",
            "justify_items": null,
            "grid_row": null,
            "max_height": null,
            "align_content": null,
            "visibility": null,
            "align_self": null,
            "height": null,
            "min_height": null,
            "padding": null,
            "grid_auto_rows": null,
            "grid_gap": null,
            "max_width": null,
            "order": null,
            "_view_module_version": "1.2.0",
            "grid_template_areas": null,
            "object_position": null,
            "object_fit": null,
            "grid_auto_columns": null,
            "margin": null,
            "display": null,
            "left": null
          }
        },
        "3bdf4c10172a4ee58246b984fde51fa4": {
          "model_module": "@jupyter-widgets/controls",
          "model_name": "HTMLModel",
          "model_module_version": "1.5.0",
          "state": {
            "_view_name": "HTMLView",
            "style": "IPY_MODEL_ad597ae02b734c449ee32fa6f20bf9e0",
            "_dom_classes": [],
            "description": "",
            "_model_name": "HTMLModel",
            "placeholder": "​",
            "_view_module": "@jupyter-widgets/controls",
            "_model_module_version": "1.5.0",
            "value": "100%",
            "_view_count": null,
            "_view_module_version": "1.5.0",
            "description_tooltip": null,
            "_model_module": "@jupyter-widgets/controls",
            "layout": "IPY_MODEL_23118de54cfe44d6ab6b5d38e9f3085c"
          }
        },
        "0346befa108f4187a149b020a0899b54": {
          "model_module": "@jupyter-widgets/controls",
          "model_name": "FloatProgressModel",
          "model_module_version": "1.5.0",
          "state": {
            "_view_name": "ProgressView",
            "style": "IPY_MODEL_8013927db6d4497598bebdc62228eb6e",
            "_dom_classes": [],
            "description": "",
            "_model_name": "FloatProgressModel",
            "bar_style": "success",
            "max": 10000,
            "_view_module": "@jupyter-widgets/controls",
            "_model_module_version": "1.5.0",
            "value": 10000,
            "_view_count": null,
            "_view_module_version": "1.5.0",
            "orientation": "horizontal",
            "min": 0,
            "description_tooltip": null,
            "_model_module": "@jupyter-widgets/controls",
            "layout": "IPY_MODEL_c139d5b64c2e4175a7eda0af6947ada6"
          }
        },
        "b3d98d3775c24499b1f17f311c92a133": {
          "model_module": "@jupyter-widgets/controls",
          "model_name": "HTMLModel",
          "model_module_version": "1.5.0",
          "state": {
            "_view_name": "HTMLView",
            "style": "IPY_MODEL_a8f12fcc9994489dad84860be5f94f9f",
            "_dom_classes": [],
            "description": "",
            "_model_name": "HTMLModel",
            "placeholder": "​",
            "_view_module": "@jupyter-widgets/controls",
            "_model_module_version": "1.5.0",
            "value": " 10000/10000 [00:02&lt;00:00, 4095.74it/s]",
            "_view_count": null,
            "_view_module_version": "1.5.0",
            "description_tooltip": null,
            "_model_module": "@jupyter-widgets/controls",
            "layout": "IPY_MODEL_0b7ea2c4066349fd8e2f4c9dd7975200"
          }
        },
        "ad597ae02b734c449ee32fa6f20bf9e0": {
          "model_module": "@jupyter-widgets/controls",
          "model_name": "DescriptionStyleModel",
          "model_module_version": "1.5.0",
          "state": {
            "_view_name": "StyleView",
            "_model_name": "DescriptionStyleModel",
            "description_width": "",
            "_view_module": "@jupyter-widgets/base",
            "_model_module_version": "1.5.0",
            "_view_count": null,
            "_view_module_version": "1.2.0",
            "_model_module": "@jupyter-widgets/controls"
          }
        },
        "23118de54cfe44d6ab6b5d38e9f3085c": {
          "model_module": "@jupyter-widgets/base",
          "model_name": "LayoutModel",
          "model_module_version": "1.2.0",
          "state": {
            "_view_name": "LayoutView",
            "grid_template_rows": null,
            "right": null,
            "justify_content": null,
            "_view_module": "@jupyter-widgets/base",
            "overflow": null,
            "_model_module_version": "1.2.0",
            "_view_count": null,
            "flex_flow": null,
            "width": null,
            "min_width": null,
            "border": null,
            "align_items": null,
            "bottom": null,
            "_model_module": "@jupyter-widgets/base",
            "top": null,
            "grid_column": null,
            "overflow_y": null,
            "overflow_x": null,
            "grid_auto_flow": null,
            "grid_area": null,
            "grid_template_columns": null,
            "flex": null,
            "_model_name": "LayoutModel",
            "justify_items": null,
            "grid_row": null,
            "max_height": null,
            "align_content": null,
            "visibility": null,
            "align_self": null,
            "height": null,
            "min_height": null,
            "padding": null,
            "grid_auto_rows": null,
            "grid_gap": null,
            "max_width": null,
            "order": null,
            "_view_module_version": "1.2.0",
            "grid_template_areas": null,
            "object_position": null,
            "object_fit": null,
            "grid_auto_columns": null,
            "margin": null,
            "display": null,
            "left": null
          }
        },
        "8013927db6d4497598bebdc62228eb6e": {
          "model_module": "@jupyter-widgets/controls",
          "model_name": "ProgressStyleModel",
          "model_module_version": "1.5.0",
          "state": {
            "_view_name": "StyleView",
            "_model_name": "ProgressStyleModel",
            "description_width": "",
            "_view_module": "@jupyter-widgets/base",
            "_model_module_version": "1.5.0",
            "_view_count": null,
            "_view_module_version": "1.2.0",
            "bar_color": null,
            "_model_module": "@jupyter-widgets/controls"
          }
        },
        "c139d5b64c2e4175a7eda0af6947ada6": {
          "model_module": "@jupyter-widgets/base",
          "model_name": "LayoutModel",
          "model_module_version": "1.2.0",
          "state": {
            "_view_name": "LayoutView",
            "grid_template_rows": null,
            "right": null,
            "justify_content": null,
            "_view_module": "@jupyter-widgets/base",
            "overflow": null,
            "_model_module_version": "1.2.0",
            "_view_count": null,
            "flex_flow": null,
            "width": null,
            "min_width": null,
            "border": null,
            "align_items": null,
            "bottom": null,
            "_model_module": "@jupyter-widgets/base",
            "top": null,
            "grid_column": null,
            "overflow_y": null,
            "overflow_x": null,
            "grid_auto_flow": null,
            "grid_area": null,
            "grid_template_columns": null,
            "flex": null,
            "_model_name": "LayoutModel",
            "justify_items": null,
            "grid_row": null,
            "max_height": null,
            "align_content": null,
            "visibility": null,
            "align_self": null,
            "height": null,
            "min_height": null,
            "padding": null,
            "grid_auto_rows": null,
            "grid_gap": null,
            "max_width": null,
            "order": null,
            "_view_module_version": "1.2.0",
            "grid_template_areas": null,
            "object_position": null,
            "object_fit": null,
            "grid_auto_columns": null,
            "margin": null,
            "display": null,
            "left": null
          }
        },
        "a8f12fcc9994489dad84860be5f94f9f": {
          "model_module": "@jupyter-widgets/controls",
          "model_name": "DescriptionStyleModel",
          "model_module_version": "1.5.0",
          "state": {
            "_view_name": "StyleView",
            "_model_name": "DescriptionStyleModel",
            "description_width": "",
            "_view_module": "@jupyter-widgets/base",
            "_model_module_version": "1.5.0",
            "_view_count": null,
            "_view_module_version": "1.2.0",
            "_model_module": "@jupyter-widgets/controls"
          }
        },
        "0b7ea2c4066349fd8e2f4c9dd7975200": {
          "model_module": "@jupyter-widgets/base",
          "model_name": "LayoutModel",
          "model_module_version": "1.2.0",
          "state": {
            "_view_name": "LayoutView",
            "grid_template_rows": null,
            "right": null,
            "justify_content": null,
            "_view_module": "@jupyter-widgets/base",
            "overflow": null,
            "_model_module_version": "1.2.0",
            "_view_count": null,
            "flex_flow": null,
            "width": null,
            "min_width": null,
            "border": null,
            "align_items": null,
            "bottom": null,
            "_model_module": "@jupyter-widgets/base",
            "top": null,
            "grid_column": null,
            "overflow_y": null,
            "overflow_x": null,
            "grid_auto_flow": null,
            "grid_area": null,
            "grid_template_columns": null,
            "flex": null,
            "_model_name": "LayoutModel",
            "justify_items": null,
            "grid_row": null,
            "max_height": null,
            "align_content": null,
            "visibility": null,
            "align_self": null,
            "height": null,
            "min_height": null,
            "padding": null,
            "grid_auto_rows": null,
            "grid_gap": null,
            "max_width": null,
            "order": null,
            "_view_module_version": "1.2.0",
            "grid_template_areas": null,
            "object_position": null,
            "object_fit": null,
            "grid_auto_columns": null,
            "margin": null,
            "display": null,
            "left": null
          }
        },
        "4adbb9f3a6304710b48bb861fc71090b": {
          "model_module": "@jupyter-widgets/controls",
          "model_name": "HBoxModel",
          "model_module_version": "1.5.0",
          "state": {
            "_view_name": "HBoxView",
            "_dom_classes": [],
            "_model_name": "HBoxModel",
            "_view_module": "@jupyter-widgets/controls",
            "_model_module_version": "1.5.0",
            "_view_count": null,
            "_view_module_version": "1.5.0",
            "box_style": "",
            "layout": "IPY_MODEL_f270d16c3d9841b991a2d5777919a50a",
            "_model_module": "@jupyter-widgets/controls",
            "children": [
              "IPY_MODEL_f23030842b2b4f1699ebafd323d0f334",
              "IPY_MODEL_74623ede2ef24ff999f4466bd3b6cdc0",
              "IPY_MODEL_bb07e7b311c24605bd07b5a651df9f9b"
            ]
          }
        },
        "f270d16c3d9841b991a2d5777919a50a": {
          "model_module": "@jupyter-widgets/base",
          "model_name": "LayoutModel",
          "model_module_version": "1.2.0",
          "state": {
            "_view_name": "LayoutView",
            "grid_template_rows": null,
            "right": null,
            "justify_content": null,
            "_view_module": "@jupyter-widgets/base",
            "overflow": null,
            "_model_module_version": "1.2.0",
            "_view_count": null,
            "flex_flow": null,
            "width": null,
            "min_width": null,
            "border": null,
            "align_items": null,
            "bottom": null,
            "_model_module": "@jupyter-widgets/base",
            "top": null,
            "grid_column": null,
            "overflow_y": null,
            "overflow_x": null,
            "grid_auto_flow": null,
            "grid_area": null,
            "grid_template_columns": null,
            "flex": null,
            "_model_name": "LayoutModel",
            "justify_items": null,
            "grid_row": null,
            "max_height": null,
            "align_content": null,
            "visibility": null,
            "align_self": null,
            "height": null,
            "min_height": null,
            "padding": null,
            "grid_auto_rows": null,
            "grid_gap": null,
            "max_width": null,
            "order": null,
            "_view_module_version": "1.2.0",
            "grid_template_areas": null,
            "object_position": null,
            "object_fit": null,
            "grid_auto_columns": null,
            "margin": null,
            "display": null,
            "left": null
          }
        },
        "f23030842b2b4f1699ebafd323d0f334": {
          "model_module": "@jupyter-widgets/controls",
          "model_name": "HTMLModel",
          "model_module_version": "1.5.0",
          "state": {
            "_view_name": "HTMLView",
            "style": "IPY_MODEL_386af8faef8d49f19a9a5ae2d36ea0ad",
            "_dom_classes": [],
            "description": "",
            "_model_name": "HTMLModel",
            "placeholder": "​",
            "_view_module": "@jupyter-widgets/controls",
            "_model_module_version": "1.5.0",
            "value": "100%",
            "_view_count": null,
            "_view_module_version": "1.5.0",
            "description_tooltip": null,
            "_model_module": "@jupyter-widgets/controls",
            "layout": "IPY_MODEL_cdc8ac2868264f12bea3fe2ee6c7a709"
          }
        },
        "74623ede2ef24ff999f4466bd3b6cdc0": {
          "model_module": "@jupyter-widgets/controls",
          "model_name": "FloatProgressModel",
          "model_module_version": "1.5.0",
          "state": {
            "_view_name": "ProgressView",
            "style": "IPY_MODEL_8fe22df71a9846588823effc9c8e7e27",
            "_dom_classes": [],
            "description": "",
            "_model_name": "FloatProgressModel",
            "bar_style": "success",
            "max": 10000,
            "_view_module": "@jupyter-widgets/controls",
            "_model_module_version": "1.5.0",
            "value": 10000,
            "_view_count": null,
            "_view_module_version": "1.5.0",
            "orientation": "horizontal",
            "min": 0,
            "description_tooltip": null,
            "_model_module": "@jupyter-widgets/controls",
            "layout": "IPY_MODEL_5e1134d77a5944dfbc64437b92c4dbdb"
          }
        },
        "bb07e7b311c24605bd07b5a651df9f9b": {
          "model_module": "@jupyter-widgets/controls",
          "model_name": "HTMLModel",
          "model_module_version": "1.5.0",
          "state": {
            "_view_name": "HTMLView",
            "style": "IPY_MODEL_4a22a56633224f879ba2076278adf9c6",
            "_dom_classes": [],
            "description": "",
            "_model_name": "HTMLModel",
            "placeholder": "​",
            "_view_module": "@jupyter-widgets/controls",
            "_model_module_version": "1.5.0",
            "value": " 10000/10000 [00:02&lt;00:00, 3916.39it/s]",
            "_view_count": null,
            "_view_module_version": "1.5.0",
            "description_tooltip": null,
            "_model_module": "@jupyter-widgets/controls",
            "layout": "IPY_MODEL_ab7e65f5b97c4319946fb17ac41d4912"
          }
        },
        "386af8faef8d49f19a9a5ae2d36ea0ad": {
          "model_module": "@jupyter-widgets/controls",
          "model_name": "DescriptionStyleModel",
          "model_module_version": "1.5.0",
          "state": {
            "_view_name": "StyleView",
            "_model_name": "DescriptionStyleModel",
            "description_width": "",
            "_view_module": "@jupyter-widgets/base",
            "_model_module_version": "1.5.0",
            "_view_count": null,
            "_view_module_version": "1.2.0",
            "_model_module": "@jupyter-widgets/controls"
          }
        },
        "cdc8ac2868264f12bea3fe2ee6c7a709": {
          "model_module": "@jupyter-widgets/base",
          "model_name": "LayoutModel",
          "model_module_version": "1.2.0",
          "state": {
            "_view_name": "LayoutView",
            "grid_template_rows": null,
            "right": null,
            "justify_content": null,
            "_view_module": "@jupyter-widgets/base",
            "overflow": null,
            "_model_module_version": "1.2.0",
            "_view_count": null,
            "flex_flow": null,
            "width": null,
            "min_width": null,
            "border": null,
            "align_items": null,
            "bottom": null,
            "_model_module": "@jupyter-widgets/base",
            "top": null,
            "grid_column": null,
            "overflow_y": null,
            "overflow_x": null,
            "grid_auto_flow": null,
            "grid_area": null,
            "grid_template_columns": null,
            "flex": null,
            "_model_name": "LayoutModel",
            "justify_items": null,
            "grid_row": null,
            "max_height": null,
            "align_content": null,
            "visibility": null,
            "align_self": null,
            "height": null,
            "min_height": null,
            "padding": null,
            "grid_auto_rows": null,
            "grid_gap": null,
            "max_width": null,
            "order": null,
            "_view_module_version": "1.2.0",
            "grid_template_areas": null,
            "object_position": null,
            "object_fit": null,
            "grid_auto_columns": null,
            "margin": null,
            "display": null,
            "left": null
          }
        },
        "8fe22df71a9846588823effc9c8e7e27": {
          "model_module": "@jupyter-widgets/controls",
          "model_name": "ProgressStyleModel",
          "model_module_version": "1.5.0",
          "state": {
            "_view_name": "StyleView",
            "_model_name": "ProgressStyleModel",
            "description_width": "",
            "_view_module": "@jupyter-widgets/base",
            "_model_module_version": "1.5.0",
            "_view_count": null,
            "_view_module_version": "1.2.0",
            "bar_color": null,
            "_model_module": "@jupyter-widgets/controls"
          }
        },
        "5e1134d77a5944dfbc64437b92c4dbdb": {
          "model_module": "@jupyter-widgets/base",
          "model_name": "LayoutModel",
          "model_module_version": "1.2.0",
          "state": {
            "_view_name": "LayoutView",
            "grid_template_rows": null,
            "right": null,
            "justify_content": null,
            "_view_module": "@jupyter-widgets/base",
            "overflow": null,
            "_model_module_version": "1.2.0",
            "_view_count": null,
            "flex_flow": null,
            "width": null,
            "min_width": null,
            "border": null,
            "align_items": null,
            "bottom": null,
            "_model_module": "@jupyter-widgets/base",
            "top": null,
            "grid_column": null,
            "overflow_y": null,
            "overflow_x": null,
            "grid_auto_flow": null,
            "grid_area": null,
            "grid_template_columns": null,
            "flex": null,
            "_model_name": "LayoutModel",
            "justify_items": null,
            "grid_row": null,
            "max_height": null,
            "align_content": null,
            "visibility": null,
            "align_self": null,
            "height": null,
            "min_height": null,
            "padding": null,
            "grid_auto_rows": null,
            "grid_gap": null,
            "max_width": null,
            "order": null,
            "_view_module_version": "1.2.0",
            "grid_template_areas": null,
            "object_position": null,
            "object_fit": null,
            "grid_auto_columns": null,
            "margin": null,
            "display": null,
            "left": null
          }
        },
        "4a22a56633224f879ba2076278adf9c6": {
          "model_module": "@jupyter-widgets/controls",
          "model_name": "DescriptionStyleModel",
          "model_module_version": "1.5.0",
          "state": {
            "_view_name": "StyleView",
            "_model_name": "DescriptionStyleModel",
            "description_width": "",
            "_view_module": "@jupyter-widgets/base",
            "_model_module_version": "1.5.0",
            "_view_count": null,
            "_view_module_version": "1.2.0",
            "_model_module": "@jupyter-widgets/controls"
          }
        },
        "ab7e65f5b97c4319946fb17ac41d4912": {
          "model_module": "@jupyter-widgets/base",
          "model_name": "LayoutModel",
          "model_module_version": "1.2.0",
          "state": {
            "_view_name": "LayoutView",
            "grid_template_rows": null,
            "right": null,
            "justify_content": null,
            "_view_module": "@jupyter-widgets/base",
            "overflow": null,
            "_model_module_version": "1.2.0",
            "_view_count": null,
            "flex_flow": null,
            "width": null,
            "min_width": null,
            "border": null,
            "align_items": null,
            "bottom": null,
            "_model_module": "@jupyter-widgets/base",
            "top": null,
            "grid_column": null,
            "overflow_y": null,
            "overflow_x": null,
            "grid_auto_flow": null,
            "grid_area": null,
            "grid_template_columns": null,
            "flex": null,
            "_model_name": "LayoutModel",
            "justify_items": null,
            "grid_row": null,
            "max_height": null,
            "align_content": null,
            "visibility": null,
            "align_self": null,
            "height": null,
            "min_height": null,
            "padding": null,
            "grid_auto_rows": null,
            "grid_gap": null,
            "max_width": null,
            "order": null,
            "_view_module_version": "1.2.0",
            "grid_template_areas": null,
            "object_position": null,
            "object_fit": null,
            "grid_auto_columns": null,
            "margin": null,
            "display": null,
            "left": null
          }
        },
        "3a87b360fbd64516a78a4d570fd4a487": {
          "model_module": "@jupyter-widgets/controls",
          "model_name": "HBoxModel",
          "model_module_version": "1.5.0",
          "state": {
            "_view_name": "HBoxView",
            "_dom_classes": [],
            "_model_name": "HBoxModel",
            "_view_module": "@jupyter-widgets/controls",
            "_model_module_version": "1.5.0",
            "_view_count": null,
            "_view_module_version": "1.5.0",
            "box_style": "",
            "layout": "IPY_MODEL_067f1e9dc3d74f838609db7c753d9c85",
            "_model_module": "@jupyter-widgets/controls",
            "children": [
              "IPY_MODEL_b95eb69f424649b3817b64de26c30c52",
              "IPY_MODEL_fda2d96ca3bf48118bdd4ca1add213af",
              "IPY_MODEL_3f39ad04bb1845049dd6e6d6c07e8e40"
            ]
          }
        },
        "067f1e9dc3d74f838609db7c753d9c85": {
          "model_module": "@jupyter-widgets/base",
          "model_name": "LayoutModel",
          "model_module_version": "1.2.0",
          "state": {
            "_view_name": "LayoutView",
            "grid_template_rows": null,
            "right": null,
            "justify_content": null,
            "_view_module": "@jupyter-widgets/base",
            "overflow": null,
            "_model_module_version": "1.2.0",
            "_view_count": null,
            "flex_flow": null,
            "width": null,
            "min_width": null,
            "border": null,
            "align_items": null,
            "bottom": null,
            "_model_module": "@jupyter-widgets/base",
            "top": null,
            "grid_column": null,
            "overflow_y": null,
            "overflow_x": null,
            "grid_auto_flow": null,
            "grid_area": null,
            "grid_template_columns": null,
            "flex": null,
            "_model_name": "LayoutModel",
            "justify_items": null,
            "grid_row": null,
            "max_height": null,
            "align_content": null,
            "visibility": null,
            "align_self": null,
            "height": null,
            "min_height": null,
            "padding": null,
            "grid_auto_rows": null,
            "grid_gap": null,
            "max_width": null,
            "order": null,
            "_view_module_version": "1.2.0",
            "grid_template_areas": null,
            "object_position": null,
            "object_fit": null,
            "grid_auto_columns": null,
            "margin": null,
            "display": null,
            "left": null
          }
        },
        "b95eb69f424649b3817b64de26c30c52": {
          "model_module": "@jupyter-widgets/controls",
          "model_name": "HTMLModel",
          "model_module_version": "1.5.0",
          "state": {
            "_view_name": "HTMLView",
            "style": "IPY_MODEL_d1cdd6d86f74418c98fcab3c79226284",
            "_dom_classes": [],
            "description": "",
            "_model_name": "HTMLModel",
            "placeholder": "​",
            "_view_module": "@jupyter-widgets/controls",
            "_model_module_version": "1.5.0",
            "value": "100%",
            "_view_count": null,
            "_view_module_version": "1.5.0",
            "description_tooltip": null,
            "_model_module": "@jupyter-widgets/controls",
            "layout": "IPY_MODEL_db9c66ac85ca4399a541de7dc5e2a703"
          }
        },
        "fda2d96ca3bf48118bdd4ca1add213af": {
          "model_module": "@jupyter-widgets/controls",
          "model_name": "FloatProgressModel",
          "model_module_version": "1.5.0",
          "state": {
            "_view_name": "ProgressView",
            "style": "IPY_MODEL_211e608d37fe4434a5e1aec6c4637baf",
            "_dom_classes": [],
            "description": "",
            "_model_name": "FloatProgressModel",
            "bar_style": "success",
            "max": 100000,
            "_view_module": "@jupyter-widgets/controls",
            "_model_module_version": "1.5.0",
            "value": 100000,
            "_view_count": null,
            "_view_module_version": "1.5.0",
            "orientation": "horizontal",
            "min": 0,
            "description_tooltip": null,
            "_model_module": "@jupyter-widgets/controls",
            "layout": "IPY_MODEL_c6d20110e2b740fbbc85b5aa310d0c75"
          }
        },
        "3f39ad04bb1845049dd6e6d6c07e8e40": {
          "model_module": "@jupyter-widgets/controls",
          "model_name": "HTMLModel",
          "model_module_version": "1.5.0",
          "state": {
            "_view_name": "HTMLView",
            "style": "IPY_MODEL_3c4dd7440f3f4af7a84122c6823595e8",
            "_dom_classes": [],
            "description": "",
            "_model_name": "HTMLModel",
            "placeholder": "​",
            "_view_module": "@jupyter-widgets/controls",
            "_model_module_version": "1.5.0",
            "value": " 100000/100000 [00:22&lt;00:00, 4369.96it/s]",
            "_view_count": null,
            "_view_module_version": "1.5.0",
            "description_tooltip": null,
            "_model_module": "@jupyter-widgets/controls",
            "layout": "IPY_MODEL_c3315373c5834db89ff186e025a09520"
          }
        },
        "d1cdd6d86f74418c98fcab3c79226284": {
          "model_module": "@jupyter-widgets/controls",
          "model_name": "DescriptionStyleModel",
          "model_module_version": "1.5.0",
          "state": {
            "_view_name": "StyleView",
            "_model_name": "DescriptionStyleModel",
            "description_width": "",
            "_view_module": "@jupyter-widgets/base",
            "_model_module_version": "1.5.0",
            "_view_count": null,
            "_view_module_version": "1.2.0",
            "_model_module": "@jupyter-widgets/controls"
          }
        },
        "db9c66ac85ca4399a541de7dc5e2a703": {
          "model_module": "@jupyter-widgets/base",
          "model_name": "LayoutModel",
          "model_module_version": "1.2.0",
          "state": {
            "_view_name": "LayoutView",
            "grid_template_rows": null,
            "right": null,
            "justify_content": null,
            "_view_module": "@jupyter-widgets/base",
            "overflow": null,
            "_model_module_version": "1.2.0",
            "_view_count": null,
            "flex_flow": null,
            "width": null,
            "min_width": null,
            "border": null,
            "align_items": null,
            "bottom": null,
            "_model_module": "@jupyter-widgets/base",
            "top": null,
            "grid_column": null,
            "overflow_y": null,
            "overflow_x": null,
            "grid_auto_flow": null,
            "grid_area": null,
            "grid_template_columns": null,
            "flex": null,
            "_model_name": "LayoutModel",
            "justify_items": null,
            "grid_row": null,
            "max_height": null,
            "align_content": null,
            "visibility": null,
            "align_self": null,
            "height": null,
            "min_height": null,
            "padding": null,
            "grid_auto_rows": null,
            "grid_gap": null,
            "max_width": null,
            "order": null,
            "_view_module_version": "1.2.0",
            "grid_template_areas": null,
            "object_position": null,
            "object_fit": null,
            "grid_auto_columns": null,
            "margin": null,
            "display": null,
            "left": null
          }
        },
        "211e608d37fe4434a5e1aec6c4637baf": {
          "model_module": "@jupyter-widgets/controls",
          "model_name": "ProgressStyleModel",
          "model_module_version": "1.5.0",
          "state": {
            "_view_name": "StyleView",
            "_model_name": "ProgressStyleModel",
            "description_width": "",
            "_view_module": "@jupyter-widgets/base",
            "_model_module_version": "1.5.0",
            "_view_count": null,
            "_view_module_version": "1.2.0",
            "bar_color": null,
            "_model_module": "@jupyter-widgets/controls"
          }
        },
        "c6d20110e2b740fbbc85b5aa310d0c75": {
          "model_module": "@jupyter-widgets/base",
          "model_name": "LayoutModel",
          "model_module_version": "1.2.0",
          "state": {
            "_view_name": "LayoutView",
            "grid_template_rows": null,
            "right": null,
            "justify_content": null,
            "_view_module": "@jupyter-widgets/base",
            "overflow": null,
            "_model_module_version": "1.2.0",
            "_view_count": null,
            "flex_flow": null,
            "width": null,
            "min_width": null,
            "border": null,
            "align_items": null,
            "bottom": null,
            "_model_module": "@jupyter-widgets/base",
            "top": null,
            "grid_column": null,
            "overflow_y": null,
            "overflow_x": null,
            "grid_auto_flow": null,
            "grid_area": null,
            "grid_template_columns": null,
            "flex": null,
            "_model_name": "LayoutModel",
            "justify_items": null,
            "grid_row": null,
            "max_height": null,
            "align_content": null,
            "visibility": null,
            "align_self": null,
            "height": null,
            "min_height": null,
            "padding": null,
            "grid_auto_rows": null,
            "grid_gap": null,
            "max_width": null,
            "order": null,
            "_view_module_version": "1.2.0",
            "grid_template_areas": null,
            "object_position": null,
            "object_fit": null,
            "grid_auto_columns": null,
            "margin": null,
            "display": null,
            "left": null
          }
        },
        "3c4dd7440f3f4af7a84122c6823595e8": {
          "model_module": "@jupyter-widgets/controls",
          "model_name": "DescriptionStyleModel",
          "model_module_version": "1.5.0",
          "state": {
            "_view_name": "StyleView",
            "_model_name": "DescriptionStyleModel",
            "description_width": "",
            "_view_module": "@jupyter-widgets/base",
            "_model_module_version": "1.5.0",
            "_view_count": null,
            "_view_module_version": "1.2.0",
            "_model_module": "@jupyter-widgets/controls"
          }
        },
        "c3315373c5834db89ff186e025a09520": {
          "model_module": "@jupyter-widgets/base",
          "model_name": "LayoutModel",
          "model_module_version": "1.2.0",
          "state": {
            "_view_name": "LayoutView",
            "grid_template_rows": null,
            "right": null,
            "justify_content": null,
            "_view_module": "@jupyter-widgets/base",
            "overflow": null,
            "_model_module_version": "1.2.0",
            "_view_count": null,
            "flex_flow": null,
            "width": null,
            "min_width": null,
            "border": null,
            "align_items": null,
            "bottom": null,
            "_model_module": "@jupyter-widgets/base",
            "top": null,
            "grid_column": null,
            "overflow_y": null,
            "overflow_x": null,
            "grid_auto_flow": null,
            "grid_area": null,
            "grid_template_columns": null,
            "flex": null,
            "_model_name": "LayoutModel",
            "justify_items": null,
            "grid_row": null,
            "max_height": null,
            "align_content": null,
            "visibility": null,
            "align_self": null,
            "height": null,
            "min_height": null,
            "padding": null,
            "grid_auto_rows": null,
            "grid_gap": null,
            "max_width": null,
            "order": null,
            "_view_module_version": "1.2.0",
            "grid_template_areas": null,
            "object_position": null,
            "object_fit": null,
            "grid_auto_columns": null,
            "margin": null,
            "display": null,
            "left": null
          }
        },
        "c24d99a9d7dc487291ae7e2269b930b0": {
          "model_module": "@jupyter-widgets/controls",
          "model_name": "HBoxModel",
          "model_module_version": "1.5.0",
          "state": {
            "_view_name": "HBoxView",
            "_dom_classes": [],
            "_model_name": "HBoxModel",
            "_view_module": "@jupyter-widgets/controls",
            "_model_module_version": "1.5.0",
            "_view_count": null,
            "_view_module_version": "1.5.0",
            "box_style": "",
            "layout": "IPY_MODEL_80947ac0f81a47e5b4139d328bd40799",
            "_model_module": "@jupyter-widgets/controls",
            "children": [
              "IPY_MODEL_bd2f8ea1f3124340b74b5dd8402d9dc3",
              "IPY_MODEL_6b95e920b7f745fd8a839316becbb2bb",
              "IPY_MODEL_53f27e15808f43db93c27b68293301f4"
            ]
          }
        },
        "80947ac0f81a47e5b4139d328bd40799": {
          "model_module": "@jupyter-widgets/base",
          "model_name": "LayoutModel",
          "model_module_version": "1.2.0",
          "state": {
            "_view_name": "LayoutView",
            "grid_template_rows": null,
            "right": null,
            "justify_content": null,
            "_view_module": "@jupyter-widgets/base",
            "overflow": null,
            "_model_module_version": "1.2.0",
            "_view_count": null,
            "flex_flow": null,
            "width": null,
            "min_width": null,
            "border": null,
            "align_items": null,
            "bottom": null,
            "_model_module": "@jupyter-widgets/base",
            "top": null,
            "grid_column": null,
            "overflow_y": null,
            "overflow_x": null,
            "grid_auto_flow": null,
            "grid_area": null,
            "grid_template_columns": null,
            "flex": null,
            "_model_name": "LayoutModel",
            "justify_items": null,
            "grid_row": null,
            "max_height": null,
            "align_content": null,
            "visibility": null,
            "align_self": null,
            "height": null,
            "min_height": null,
            "padding": null,
            "grid_auto_rows": null,
            "grid_gap": null,
            "max_width": null,
            "order": null,
            "_view_module_version": "1.2.0",
            "grid_template_areas": null,
            "object_position": null,
            "object_fit": null,
            "grid_auto_columns": null,
            "margin": null,
            "display": null,
            "left": null
          }
        },
        "bd2f8ea1f3124340b74b5dd8402d9dc3": {
          "model_module": "@jupyter-widgets/controls",
          "model_name": "HTMLModel",
          "model_module_version": "1.5.0",
          "state": {
            "_view_name": "HTMLView",
            "style": "IPY_MODEL_f1743967f0c745eb8ec3391ef026dbee",
            "_dom_classes": [],
            "description": "",
            "_model_name": "HTMLModel",
            "placeholder": "​",
            "_view_module": "@jupyter-widgets/controls",
            "_model_module_version": "1.5.0",
            "value": "100%",
            "_view_count": null,
            "_view_module_version": "1.5.0",
            "description_tooltip": null,
            "_model_module": "@jupyter-widgets/controls",
            "layout": "IPY_MODEL_bee41402d7b14daf9043ead2912bcfff"
          }
        },
        "6b95e920b7f745fd8a839316becbb2bb": {
          "model_module": "@jupyter-widgets/controls",
          "model_name": "FloatProgressModel",
          "model_module_version": "1.5.0",
          "state": {
            "_view_name": "ProgressView",
            "style": "IPY_MODEL_b29149ec0d1249009deeb24adefa24e4",
            "_dom_classes": [],
            "description": "",
            "_model_name": "FloatProgressModel",
            "bar_style": "success",
            "max": 10000,
            "_view_module": "@jupyter-widgets/controls",
            "_model_module_version": "1.5.0",
            "value": 10000,
            "_view_count": null,
            "_view_module_version": "1.5.0",
            "orientation": "horizontal",
            "min": 0,
            "description_tooltip": null,
            "_model_module": "@jupyter-widgets/controls",
            "layout": "IPY_MODEL_15091fceb2014c4dbfdc94cc8b1d6e21"
          }
        },
        "53f27e15808f43db93c27b68293301f4": {
          "model_module": "@jupyter-widgets/controls",
          "model_name": "HTMLModel",
          "model_module_version": "1.5.0",
          "state": {
            "_view_name": "HTMLView",
            "style": "IPY_MODEL_3e687fdbe1cd47ef80e85ba631d8e61c",
            "_dom_classes": [],
            "description": "",
            "_model_name": "HTMLModel",
            "placeholder": "​",
            "_view_module": "@jupyter-widgets/controls",
            "_model_module_version": "1.5.0",
            "value": " 10000/10000 [00:02&lt;00:00, 4438.94it/s]",
            "_view_count": null,
            "_view_module_version": "1.5.0",
            "description_tooltip": null,
            "_model_module": "@jupyter-widgets/controls",
            "layout": "IPY_MODEL_6b9752d01d0c49008fd4b629ceddeccf"
          }
        },
        "f1743967f0c745eb8ec3391ef026dbee": {
          "model_module": "@jupyter-widgets/controls",
          "model_name": "DescriptionStyleModel",
          "model_module_version": "1.5.0",
          "state": {
            "_view_name": "StyleView",
            "_model_name": "DescriptionStyleModel",
            "description_width": "",
            "_view_module": "@jupyter-widgets/base",
            "_model_module_version": "1.5.0",
            "_view_count": null,
            "_view_module_version": "1.2.0",
            "_model_module": "@jupyter-widgets/controls"
          }
        },
        "bee41402d7b14daf9043ead2912bcfff": {
          "model_module": "@jupyter-widgets/base",
          "model_name": "LayoutModel",
          "model_module_version": "1.2.0",
          "state": {
            "_view_name": "LayoutView",
            "grid_template_rows": null,
            "right": null,
            "justify_content": null,
            "_view_module": "@jupyter-widgets/base",
            "overflow": null,
            "_model_module_version": "1.2.0",
            "_view_count": null,
            "flex_flow": null,
            "width": null,
            "min_width": null,
            "border": null,
            "align_items": null,
            "bottom": null,
            "_model_module": "@jupyter-widgets/base",
            "top": null,
            "grid_column": null,
            "overflow_y": null,
            "overflow_x": null,
            "grid_auto_flow": null,
            "grid_area": null,
            "grid_template_columns": null,
            "flex": null,
            "_model_name": "LayoutModel",
            "justify_items": null,
            "grid_row": null,
            "max_height": null,
            "align_content": null,
            "visibility": null,
            "align_self": null,
            "height": null,
            "min_height": null,
            "padding": null,
            "grid_auto_rows": null,
            "grid_gap": null,
            "max_width": null,
            "order": null,
            "_view_module_version": "1.2.0",
            "grid_template_areas": null,
            "object_position": null,
            "object_fit": null,
            "grid_auto_columns": null,
            "margin": null,
            "display": null,
            "left": null
          }
        },
        "b29149ec0d1249009deeb24adefa24e4": {
          "model_module": "@jupyter-widgets/controls",
          "model_name": "ProgressStyleModel",
          "model_module_version": "1.5.0",
          "state": {
            "_view_name": "StyleView",
            "_model_name": "ProgressStyleModel",
            "description_width": "",
            "_view_module": "@jupyter-widgets/base",
            "_model_module_version": "1.5.0",
            "_view_count": null,
            "_view_module_version": "1.2.0",
            "bar_color": null,
            "_model_module": "@jupyter-widgets/controls"
          }
        },
        "15091fceb2014c4dbfdc94cc8b1d6e21": {
          "model_module": "@jupyter-widgets/base",
          "model_name": "LayoutModel",
          "model_module_version": "1.2.0",
          "state": {
            "_view_name": "LayoutView",
            "grid_template_rows": null,
            "right": null,
            "justify_content": null,
            "_view_module": "@jupyter-widgets/base",
            "overflow": null,
            "_model_module_version": "1.2.0",
            "_view_count": null,
            "flex_flow": null,
            "width": null,
            "min_width": null,
            "border": null,
            "align_items": null,
            "bottom": null,
            "_model_module": "@jupyter-widgets/base",
            "top": null,
            "grid_column": null,
            "overflow_y": null,
            "overflow_x": null,
            "grid_auto_flow": null,
            "grid_area": null,
            "grid_template_columns": null,
            "flex": null,
            "_model_name": "LayoutModel",
            "justify_items": null,
            "grid_row": null,
            "max_height": null,
            "align_content": null,
            "visibility": null,
            "align_self": null,
            "height": null,
            "min_height": null,
            "padding": null,
            "grid_auto_rows": null,
            "grid_gap": null,
            "max_width": null,
            "order": null,
            "_view_module_version": "1.2.0",
            "grid_template_areas": null,
            "object_position": null,
            "object_fit": null,
            "grid_auto_columns": null,
            "margin": null,
            "display": null,
            "left": null
          }
        },
        "3e687fdbe1cd47ef80e85ba631d8e61c": {
          "model_module": "@jupyter-widgets/controls",
          "model_name": "DescriptionStyleModel",
          "model_module_version": "1.5.0",
          "state": {
            "_view_name": "StyleView",
            "_model_name": "DescriptionStyleModel",
            "description_width": "",
            "_view_module": "@jupyter-widgets/base",
            "_model_module_version": "1.5.0",
            "_view_count": null,
            "_view_module_version": "1.2.0",
            "_model_module": "@jupyter-widgets/controls"
          }
        },
        "6b9752d01d0c49008fd4b629ceddeccf": {
          "model_module": "@jupyter-widgets/base",
          "model_name": "LayoutModel",
          "model_module_version": "1.2.0",
          "state": {
            "_view_name": "LayoutView",
            "grid_template_rows": null,
            "right": null,
            "justify_content": null,
            "_view_module": "@jupyter-widgets/base",
            "overflow": null,
            "_model_module_version": "1.2.0",
            "_view_count": null,
            "flex_flow": null,
            "width": null,
            "min_width": null,
            "border": null,
            "align_items": null,
            "bottom": null,
            "_model_module": "@jupyter-widgets/base",
            "top": null,
            "grid_column": null,
            "overflow_y": null,
            "overflow_x": null,
            "grid_auto_flow": null,
            "grid_area": null,
            "grid_template_columns": null,
            "flex": null,
            "_model_name": "LayoutModel",
            "justify_items": null,
            "grid_row": null,
            "max_height": null,
            "align_content": null,
            "visibility": null,
            "align_self": null,
            "height": null,
            "min_height": null,
            "padding": null,
            "grid_auto_rows": null,
            "grid_gap": null,
            "max_width": null,
            "order": null,
            "_view_module_version": "1.2.0",
            "grid_template_areas": null,
            "object_position": null,
            "object_fit": null,
            "grid_auto_columns": null,
            "margin": null,
            "display": null,
            "left": null
          }
        },
        "3d29d9cc59d04eacb7b3916fad012bce": {
          "model_module": "@jupyter-widgets/controls",
          "model_name": "HBoxModel",
          "model_module_version": "1.5.0",
          "state": {
            "_view_name": "HBoxView",
            "_dom_classes": [],
            "_model_name": "HBoxModel",
            "_view_module": "@jupyter-widgets/controls",
            "_model_module_version": "1.5.0",
            "_view_count": null,
            "_view_module_version": "1.5.0",
            "box_style": "",
            "layout": "IPY_MODEL_8436a1910e2d4bb783e7d1abc85a34f9",
            "_model_module": "@jupyter-widgets/controls",
            "children": [
              "IPY_MODEL_dd8d1c3c6aec4816af9a670537f0d264",
              "IPY_MODEL_049d491e4ac4483e8a27236f371243c9",
              "IPY_MODEL_32278316fe83480c96ebc4c12a0ebd9a"
            ]
          }
        },
        "8436a1910e2d4bb783e7d1abc85a34f9": {
          "model_module": "@jupyter-widgets/base",
          "model_name": "LayoutModel",
          "model_module_version": "1.2.0",
          "state": {
            "_view_name": "LayoutView",
            "grid_template_rows": null,
            "right": null,
            "justify_content": null,
            "_view_module": "@jupyter-widgets/base",
            "overflow": null,
            "_model_module_version": "1.2.0",
            "_view_count": null,
            "flex_flow": null,
            "width": null,
            "min_width": null,
            "border": null,
            "align_items": null,
            "bottom": null,
            "_model_module": "@jupyter-widgets/base",
            "top": null,
            "grid_column": null,
            "overflow_y": null,
            "overflow_x": null,
            "grid_auto_flow": null,
            "grid_area": null,
            "grid_template_columns": null,
            "flex": null,
            "_model_name": "LayoutModel",
            "justify_items": null,
            "grid_row": null,
            "max_height": null,
            "align_content": null,
            "visibility": null,
            "align_self": null,
            "height": null,
            "min_height": null,
            "padding": null,
            "grid_auto_rows": null,
            "grid_gap": null,
            "max_width": null,
            "order": null,
            "_view_module_version": "1.2.0",
            "grid_template_areas": null,
            "object_position": null,
            "object_fit": null,
            "grid_auto_columns": null,
            "margin": null,
            "display": null,
            "left": null
          }
        },
        "dd8d1c3c6aec4816af9a670537f0d264": {
          "model_module": "@jupyter-widgets/controls",
          "model_name": "HTMLModel",
          "model_module_version": "1.5.0",
          "state": {
            "_view_name": "HTMLView",
            "style": "IPY_MODEL_1ab629ba8365499b9376ecdc143bc186",
            "_dom_classes": [],
            "description": "",
            "_model_name": "HTMLModel",
            "placeholder": "​",
            "_view_module": "@jupyter-widgets/controls",
            "_model_module_version": "1.5.0",
            "value": "100%",
            "_view_count": null,
            "_view_module_version": "1.5.0",
            "description_tooltip": null,
            "_model_module": "@jupyter-widgets/controls",
            "layout": "IPY_MODEL_8de19c855d914f1dbd86f1911042ed2d"
          }
        },
        "049d491e4ac4483e8a27236f371243c9": {
          "model_module": "@jupyter-widgets/controls",
          "model_name": "FloatProgressModel",
          "model_module_version": "1.5.0",
          "state": {
            "_view_name": "ProgressView",
            "style": "IPY_MODEL_0931f324323d4016a7945ba8506d745a",
            "_dom_classes": [],
            "description": "",
            "_model_name": "FloatProgressModel",
            "bar_style": "success",
            "max": 10000,
            "_view_module": "@jupyter-widgets/controls",
            "_model_module_version": "1.5.0",
            "value": 10000,
            "_view_count": null,
            "_view_module_version": "1.5.0",
            "orientation": "horizontal",
            "min": 0,
            "description_tooltip": null,
            "_model_module": "@jupyter-widgets/controls",
            "layout": "IPY_MODEL_dda34cad4a044095bfbbe89a2d0aba02"
          }
        },
        "32278316fe83480c96ebc4c12a0ebd9a": {
          "model_module": "@jupyter-widgets/controls",
          "model_name": "HTMLModel",
          "model_module_version": "1.5.0",
          "state": {
            "_view_name": "HTMLView",
            "style": "IPY_MODEL_facd4eafbc1b403cb7d321b42e95febf",
            "_dom_classes": [],
            "description": "",
            "_model_name": "HTMLModel",
            "placeholder": "​",
            "_view_module": "@jupyter-widgets/controls",
            "_model_module_version": "1.5.0",
            "value": " 10000/10000 [00:02&lt;00:00, 4016.82it/s]",
            "_view_count": null,
            "_view_module_version": "1.5.0",
            "description_tooltip": null,
            "_model_module": "@jupyter-widgets/controls",
            "layout": "IPY_MODEL_764af62e50434f1fbf227ec9b0c19473"
          }
        },
        "1ab629ba8365499b9376ecdc143bc186": {
          "model_module": "@jupyter-widgets/controls",
          "model_name": "DescriptionStyleModel",
          "model_module_version": "1.5.0",
          "state": {
            "_view_name": "StyleView",
            "_model_name": "DescriptionStyleModel",
            "description_width": "",
            "_view_module": "@jupyter-widgets/base",
            "_model_module_version": "1.5.0",
            "_view_count": null,
            "_view_module_version": "1.2.0",
            "_model_module": "@jupyter-widgets/controls"
          }
        },
        "8de19c855d914f1dbd86f1911042ed2d": {
          "model_module": "@jupyter-widgets/base",
          "model_name": "LayoutModel",
          "model_module_version": "1.2.0",
          "state": {
            "_view_name": "LayoutView",
            "grid_template_rows": null,
            "right": null,
            "justify_content": null,
            "_view_module": "@jupyter-widgets/base",
            "overflow": null,
            "_model_module_version": "1.2.0",
            "_view_count": null,
            "flex_flow": null,
            "width": null,
            "min_width": null,
            "border": null,
            "align_items": null,
            "bottom": null,
            "_model_module": "@jupyter-widgets/base",
            "top": null,
            "grid_column": null,
            "overflow_y": null,
            "overflow_x": null,
            "grid_auto_flow": null,
            "grid_area": null,
            "grid_template_columns": null,
            "flex": null,
            "_model_name": "LayoutModel",
            "justify_items": null,
            "grid_row": null,
            "max_height": null,
            "align_content": null,
            "visibility": null,
            "align_self": null,
            "height": null,
            "min_height": null,
            "padding": null,
            "grid_auto_rows": null,
            "grid_gap": null,
            "max_width": null,
            "order": null,
            "_view_module_version": "1.2.0",
            "grid_template_areas": null,
            "object_position": null,
            "object_fit": null,
            "grid_auto_columns": null,
            "margin": null,
            "display": null,
            "left": null
          }
        },
        "0931f324323d4016a7945ba8506d745a": {
          "model_module": "@jupyter-widgets/controls",
          "model_name": "ProgressStyleModel",
          "model_module_version": "1.5.0",
          "state": {
            "_view_name": "StyleView",
            "_model_name": "ProgressStyleModel",
            "description_width": "",
            "_view_module": "@jupyter-widgets/base",
            "_model_module_version": "1.5.0",
            "_view_count": null,
            "_view_module_version": "1.2.0",
            "bar_color": null,
            "_model_module": "@jupyter-widgets/controls"
          }
        },
        "dda34cad4a044095bfbbe89a2d0aba02": {
          "model_module": "@jupyter-widgets/base",
          "model_name": "LayoutModel",
          "model_module_version": "1.2.0",
          "state": {
            "_view_name": "LayoutView",
            "grid_template_rows": null,
            "right": null,
            "justify_content": null,
            "_view_module": "@jupyter-widgets/base",
            "overflow": null,
            "_model_module_version": "1.2.0",
            "_view_count": null,
            "flex_flow": null,
            "width": null,
            "min_width": null,
            "border": null,
            "align_items": null,
            "bottom": null,
            "_model_module": "@jupyter-widgets/base",
            "top": null,
            "grid_column": null,
            "overflow_y": null,
            "overflow_x": null,
            "grid_auto_flow": null,
            "grid_area": null,
            "grid_template_columns": null,
            "flex": null,
            "_model_name": "LayoutModel",
            "justify_items": null,
            "grid_row": null,
            "max_height": null,
            "align_content": null,
            "visibility": null,
            "align_self": null,
            "height": null,
            "min_height": null,
            "padding": null,
            "grid_auto_rows": null,
            "grid_gap": null,
            "max_width": null,
            "order": null,
            "_view_module_version": "1.2.0",
            "grid_template_areas": null,
            "object_position": null,
            "object_fit": null,
            "grid_auto_columns": null,
            "margin": null,
            "display": null,
            "left": null
          }
        },
        "facd4eafbc1b403cb7d321b42e95febf": {
          "model_module": "@jupyter-widgets/controls",
          "model_name": "DescriptionStyleModel",
          "model_module_version": "1.5.0",
          "state": {
            "_view_name": "StyleView",
            "_model_name": "DescriptionStyleModel",
            "description_width": "",
            "_view_module": "@jupyter-widgets/base",
            "_model_module_version": "1.5.0",
            "_view_count": null,
            "_view_module_version": "1.2.0",
            "_model_module": "@jupyter-widgets/controls"
          }
        },
        "764af62e50434f1fbf227ec9b0c19473": {
          "model_module": "@jupyter-widgets/base",
          "model_name": "LayoutModel",
          "model_module_version": "1.2.0",
          "state": {
            "_view_name": "LayoutView",
            "grid_template_rows": null,
            "right": null,
            "justify_content": null,
            "_view_module": "@jupyter-widgets/base",
            "overflow": null,
            "_model_module_version": "1.2.0",
            "_view_count": null,
            "flex_flow": null,
            "width": null,
            "min_width": null,
            "border": null,
            "align_items": null,
            "bottom": null,
            "_model_module": "@jupyter-widgets/base",
            "top": null,
            "grid_column": null,
            "overflow_y": null,
            "overflow_x": null,
            "grid_auto_flow": null,
            "grid_area": null,
            "grid_template_columns": null,
            "flex": null,
            "_model_name": "LayoutModel",
            "justify_items": null,
            "grid_row": null,
            "max_height": null,
            "align_content": null,
            "visibility": null,
            "align_self": null,
            "height": null,
            "min_height": null,
            "padding": null,
            "grid_auto_rows": null,
            "grid_gap": null,
            "max_width": null,
            "order": null,
            "_view_module_version": "1.2.0",
            "grid_template_areas": null,
            "object_position": null,
            "object_fit": null,
            "grid_auto_columns": null,
            "margin": null,
            "display": null,
            "left": null
          }
        },
        "673f1d86d3264ee0948904431aa7ec55": {
          "model_module": "@jupyter-widgets/controls",
          "model_name": "HBoxModel",
          "model_module_version": "1.5.0",
          "state": {
            "_view_name": "HBoxView",
            "_dom_classes": [],
            "_model_name": "HBoxModel",
            "_view_module": "@jupyter-widgets/controls",
            "_model_module_version": "1.5.0",
            "_view_count": null,
            "_view_module_version": "1.5.0",
            "box_style": "",
            "layout": "IPY_MODEL_2d1b0ffca01d4583a69208dcc5b913f2",
            "_model_module": "@jupyter-widgets/controls",
            "children": [
              "IPY_MODEL_5ce45e4358f14209a18abfd254fc49c0",
              "IPY_MODEL_3d6a8e09a4454c59b0cfa9cf620ee540",
              "IPY_MODEL_822edf5ecf50421a9bdd26bfd0ef7124"
            ]
          }
        },
        "2d1b0ffca01d4583a69208dcc5b913f2": {
          "model_module": "@jupyter-widgets/base",
          "model_name": "LayoutModel",
          "model_module_version": "1.2.0",
          "state": {
            "_view_name": "LayoutView",
            "grid_template_rows": null,
            "right": null,
            "justify_content": null,
            "_view_module": "@jupyter-widgets/base",
            "overflow": null,
            "_model_module_version": "1.2.0",
            "_view_count": null,
            "flex_flow": null,
            "width": null,
            "min_width": null,
            "border": null,
            "align_items": null,
            "bottom": null,
            "_model_module": "@jupyter-widgets/base",
            "top": null,
            "grid_column": null,
            "overflow_y": null,
            "overflow_x": null,
            "grid_auto_flow": null,
            "grid_area": null,
            "grid_template_columns": null,
            "flex": null,
            "_model_name": "LayoutModel",
            "justify_items": null,
            "grid_row": null,
            "max_height": null,
            "align_content": null,
            "visibility": null,
            "align_self": null,
            "height": null,
            "min_height": null,
            "padding": null,
            "grid_auto_rows": null,
            "grid_gap": null,
            "max_width": null,
            "order": null,
            "_view_module_version": "1.2.0",
            "grid_template_areas": null,
            "object_position": null,
            "object_fit": null,
            "grid_auto_columns": null,
            "margin": null,
            "display": null,
            "left": null
          }
        },
        "5ce45e4358f14209a18abfd254fc49c0": {
          "model_module": "@jupyter-widgets/controls",
          "model_name": "HTMLModel",
          "model_module_version": "1.5.0",
          "state": {
            "_view_name": "HTMLView",
            "style": "IPY_MODEL_e3671d163d204abab2d945ba44aec855",
            "_dom_classes": [],
            "description": "",
            "_model_name": "HTMLModel",
            "placeholder": "​",
            "_view_module": "@jupyter-widgets/controls",
            "_model_module_version": "1.5.0",
            "value": "100%",
            "_view_count": null,
            "_view_module_version": "1.5.0",
            "description_tooltip": null,
            "_model_module": "@jupyter-widgets/controls",
            "layout": "IPY_MODEL_f171df4ec0df4984804f2b986139941e"
          }
        },
        "3d6a8e09a4454c59b0cfa9cf620ee540": {
          "model_module": "@jupyter-widgets/controls",
          "model_name": "FloatProgressModel",
          "model_module_version": "1.5.0",
          "state": {
            "_view_name": "ProgressView",
            "style": "IPY_MODEL_f417c010b05b48d5a137e6db17a0268d",
            "_dom_classes": [],
            "description": "",
            "_model_name": "FloatProgressModel",
            "bar_style": "success",
            "max": 100000,
            "_view_module": "@jupyter-widgets/controls",
            "_model_module_version": "1.5.0",
            "value": 100000,
            "_view_count": null,
            "_view_module_version": "1.5.0",
            "orientation": "horizontal",
            "min": 0,
            "description_tooltip": null,
            "_model_module": "@jupyter-widgets/controls",
            "layout": "IPY_MODEL_3249597e2cff41a0abea72dcec603041"
          }
        },
        "822edf5ecf50421a9bdd26bfd0ef7124": {
          "model_module": "@jupyter-widgets/controls",
          "model_name": "HTMLModel",
          "model_module_version": "1.5.0",
          "state": {
            "_view_name": "HTMLView",
            "style": "IPY_MODEL_ab1e9ec660b44c64a4274c591ad55d01",
            "_dom_classes": [],
            "description": "",
            "_model_name": "HTMLModel",
            "placeholder": "​",
            "_view_module": "@jupyter-widgets/controls",
            "_model_module_version": "1.5.0",
            "value": " 100000/100000 [00:30&lt;00:00, 3270.41it/s]",
            "_view_count": null,
            "_view_module_version": "1.5.0",
            "description_tooltip": null,
            "_model_module": "@jupyter-widgets/controls",
            "layout": "IPY_MODEL_96a99fc94ee442de9299439c37131019"
          }
        },
        "e3671d163d204abab2d945ba44aec855": {
          "model_module": "@jupyter-widgets/controls",
          "model_name": "DescriptionStyleModel",
          "model_module_version": "1.5.0",
          "state": {
            "_view_name": "StyleView",
            "_model_name": "DescriptionStyleModel",
            "description_width": "",
            "_view_module": "@jupyter-widgets/base",
            "_model_module_version": "1.5.0",
            "_view_count": null,
            "_view_module_version": "1.2.0",
            "_model_module": "@jupyter-widgets/controls"
          }
        },
        "f171df4ec0df4984804f2b986139941e": {
          "model_module": "@jupyter-widgets/base",
          "model_name": "LayoutModel",
          "model_module_version": "1.2.0",
          "state": {
            "_view_name": "LayoutView",
            "grid_template_rows": null,
            "right": null,
            "justify_content": null,
            "_view_module": "@jupyter-widgets/base",
            "overflow": null,
            "_model_module_version": "1.2.0",
            "_view_count": null,
            "flex_flow": null,
            "width": null,
            "min_width": null,
            "border": null,
            "align_items": null,
            "bottom": null,
            "_model_module": "@jupyter-widgets/base",
            "top": null,
            "grid_column": null,
            "overflow_y": null,
            "overflow_x": null,
            "grid_auto_flow": null,
            "grid_area": null,
            "grid_template_columns": null,
            "flex": null,
            "_model_name": "LayoutModel",
            "justify_items": null,
            "grid_row": null,
            "max_height": null,
            "align_content": null,
            "visibility": null,
            "align_self": null,
            "height": null,
            "min_height": null,
            "padding": null,
            "grid_auto_rows": null,
            "grid_gap": null,
            "max_width": null,
            "order": null,
            "_view_module_version": "1.2.0",
            "grid_template_areas": null,
            "object_position": null,
            "object_fit": null,
            "grid_auto_columns": null,
            "margin": null,
            "display": null,
            "left": null
          }
        },
        "f417c010b05b48d5a137e6db17a0268d": {
          "model_module": "@jupyter-widgets/controls",
          "model_name": "ProgressStyleModel",
          "model_module_version": "1.5.0",
          "state": {
            "_view_name": "StyleView",
            "_model_name": "ProgressStyleModel",
            "description_width": "",
            "_view_module": "@jupyter-widgets/base",
            "_model_module_version": "1.5.0",
            "_view_count": null,
            "_view_module_version": "1.2.0",
            "bar_color": null,
            "_model_module": "@jupyter-widgets/controls"
          }
        },
        "3249597e2cff41a0abea72dcec603041": {
          "model_module": "@jupyter-widgets/base",
          "model_name": "LayoutModel",
          "model_module_version": "1.2.0",
          "state": {
            "_view_name": "LayoutView",
            "grid_template_rows": null,
            "right": null,
            "justify_content": null,
            "_view_module": "@jupyter-widgets/base",
            "overflow": null,
            "_model_module_version": "1.2.0",
            "_view_count": null,
            "flex_flow": null,
            "width": null,
            "min_width": null,
            "border": null,
            "align_items": null,
            "bottom": null,
            "_model_module": "@jupyter-widgets/base",
            "top": null,
            "grid_column": null,
            "overflow_y": null,
            "overflow_x": null,
            "grid_auto_flow": null,
            "grid_area": null,
            "grid_template_columns": null,
            "flex": null,
            "_model_name": "LayoutModel",
            "justify_items": null,
            "grid_row": null,
            "max_height": null,
            "align_content": null,
            "visibility": null,
            "align_self": null,
            "height": null,
            "min_height": null,
            "padding": null,
            "grid_auto_rows": null,
            "grid_gap": null,
            "max_width": null,
            "order": null,
            "_view_module_version": "1.2.0",
            "grid_template_areas": null,
            "object_position": null,
            "object_fit": null,
            "grid_auto_columns": null,
            "margin": null,
            "display": null,
            "left": null
          }
        },
        "ab1e9ec660b44c64a4274c591ad55d01": {
          "model_module": "@jupyter-widgets/controls",
          "model_name": "DescriptionStyleModel",
          "model_module_version": "1.5.0",
          "state": {
            "_view_name": "StyleView",
            "_model_name": "DescriptionStyleModel",
            "description_width": "",
            "_view_module": "@jupyter-widgets/base",
            "_model_module_version": "1.5.0",
            "_view_count": null,
            "_view_module_version": "1.2.0",
            "_model_module": "@jupyter-widgets/controls"
          }
        },
        "96a99fc94ee442de9299439c37131019": {
          "model_module": "@jupyter-widgets/base",
          "model_name": "LayoutModel",
          "model_module_version": "1.2.0",
          "state": {
            "_view_name": "LayoutView",
            "grid_template_rows": null,
            "right": null,
            "justify_content": null,
            "_view_module": "@jupyter-widgets/base",
            "overflow": null,
            "_model_module_version": "1.2.0",
            "_view_count": null,
            "flex_flow": null,
            "width": null,
            "min_width": null,
            "border": null,
            "align_items": null,
            "bottom": null,
            "_model_module": "@jupyter-widgets/base",
            "top": null,
            "grid_column": null,
            "overflow_y": null,
            "overflow_x": null,
            "grid_auto_flow": null,
            "grid_area": null,
            "grid_template_columns": null,
            "flex": null,
            "_model_name": "LayoutModel",
            "justify_items": null,
            "grid_row": null,
            "max_height": null,
            "align_content": null,
            "visibility": null,
            "align_self": null,
            "height": null,
            "min_height": null,
            "padding": null,
            "grid_auto_rows": null,
            "grid_gap": null,
            "max_width": null,
            "order": null,
            "_view_module_version": "1.2.0",
            "grid_template_areas": null,
            "object_position": null,
            "object_fit": null,
            "grid_auto_columns": null,
            "margin": null,
            "display": null,
            "left": null
          }
        },
        "d02bec4b4a254026bb638e36831c7830": {
          "model_module": "@jupyter-widgets/controls",
          "model_name": "HBoxModel",
          "model_module_version": "1.5.0",
          "state": {
            "_view_name": "HBoxView",
            "_dom_classes": [],
            "_model_name": "HBoxModel",
            "_view_module": "@jupyter-widgets/controls",
            "_model_module_version": "1.5.0",
            "_view_count": null,
            "_view_module_version": "1.5.0",
            "box_style": "",
            "layout": "IPY_MODEL_73b940ea73d2420cbba50310bd7a97df",
            "_model_module": "@jupyter-widgets/controls",
            "children": [
              "IPY_MODEL_542748befebc45618c53eb3301a100ea",
              "IPY_MODEL_1ef3455663ec4c769c606b5c73585f44",
              "IPY_MODEL_ad330a3664de4c449bfb80462274cf4a"
            ]
          }
        },
        "73b940ea73d2420cbba50310bd7a97df": {
          "model_module": "@jupyter-widgets/base",
          "model_name": "LayoutModel",
          "model_module_version": "1.2.0",
          "state": {
            "_view_name": "LayoutView",
            "grid_template_rows": null,
            "right": null,
            "justify_content": null,
            "_view_module": "@jupyter-widgets/base",
            "overflow": null,
            "_model_module_version": "1.2.0",
            "_view_count": null,
            "flex_flow": null,
            "width": null,
            "min_width": null,
            "border": null,
            "align_items": null,
            "bottom": null,
            "_model_module": "@jupyter-widgets/base",
            "top": null,
            "grid_column": null,
            "overflow_y": null,
            "overflow_x": null,
            "grid_auto_flow": null,
            "grid_area": null,
            "grid_template_columns": null,
            "flex": null,
            "_model_name": "LayoutModel",
            "justify_items": null,
            "grid_row": null,
            "max_height": null,
            "align_content": null,
            "visibility": null,
            "align_self": null,
            "height": null,
            "min_height": null,
            "padding": null,
            "grid_auto_rows": null,
            "grid_gap": null,
            "max_width": null,
            "order": null,
            "_view_module_version": "1.2.0",
            "grid_template_areas": null,
            "object_position": null,
            "object_fit": null,
            "grid_auto_columns": null,
            "margin": null,
            "display": null,
            "left": null
          }
        },
        "542748befebc45618c53eb3301a100ea": {
          "model_module": "@jupyter-widgets/controls",
          "model_name": "HTMLModel",
          "model_module_version": "1.5.0",
          "state": {
            "_view_name": "HTMLView",
            "style": "IPY_MODEL_4fdea549a0654949bc1f5a31553e23d0",
            "_dom_classes": [],
            "description": "",
            "_model_name": "HTMLModel",
            "placeholder": "​",
            "_view_module": "@jupyter-widgets/controls",
            "_model_module_version": "1.5.0",
            "value": "100%",
            "_view_count": null,
            "_view_module_version": "1.5.0",
            "description_tooltip": null,
            "_model_module": "@jupyter-widgets/controls",
            "layout": "IPY_MODEL_0d31f08d6ae54949bbbe04a5cdf85b6c"
          }
        },
        "1ef3455663ec4c769c606b5c73585f44": {
          "model_module": "@jupyter-widgets/controls",
          "model_name": "FloatProgressModel",
          "model_module_version": "1.5.0",
          "state": {
            "_view_name": "ProgressView",
            "style": "IPY_MODEL_f9be0eea32614539a6d1db12d8f03cfb",
            "_dom_classes": [],
            "description": "",
            "_model_name": "FloatProgressModel",
            "bar_style": "success",
            "max": 100000,
            "_view_module": "@jupyter-widgets/controls",
            "_model_module_version": "1.5.0",
            "value": 100000,
            "_view_count": null,
            "_view_module_version": "1.5.0",
            "orientation": "horizontal",
            "min": 0,
            "description_tooltip": null,
            "_model_module": "@jupyter-widgets/controls",
            "layout": "IPY_MODEL_8ac75d182d9c43a682b507e584545069"
          }
        },
        "ad330a3664de4c449bfb80462274cf4a": {
          "model_module": "@jupyter-widgets/controls",
          "model_name": "HTMLModel",
          "model_module_version": "1.5.0",
          "state": {
            "_view_name": "HTMLView",
            "style": "IPY_MODEL_ed1838bf0c11491c9384d081df16670c",
            "_dom_classes": [],
            "description": "",
            "_model_name": "HTMLModel",
            "placeholder": "​",
            "_view_module": "@jupyter-widgets/controls",
            "_model_module_version": "1.5.0",
            "value": " 100000/100000 [00:58&lt;00:00, 1720.15it/s]",
            "_view_count": null,
            "_view_module_version": "1.5.0",
            "description_tooltip": null,
            "_model_module": "@jupyter-widgets/controls",
            "layout": "IPY_MODEL_f4cbc602a875462dadd4d73fca74880d"
          }
        },
        "4fdea549a0654949bc1f5a31553e23d0": {
          "model_module": "@jupyter-widgets/controls",
          "model_name": "DescriptionStyleModel",
          "model_module_version": "1.5.0",
          "state": {
            "_view_name": "StyleView",
            "_model_name": "DescriptionStyleModel",
            "description_width": "",
            "_view_module": "@jupyter-widgets/base",
            "_model_module_version": "1.5.0",
            "_view_count": null,
            "_view_module_version": "1.2.0",
            "_model_module": "@jupyter-widgets/controls"
          }
        },
        "0d31f08d6ae54949bbbe04a5cdf85b6c": {
          "model_module": "@jupyter-widgets/base",
          "model_name": "LayoutModel",
          "model_module_version": "1.2.0",
          "state": {
            "_view_name": "LayoutView",
            "grid_template_rows": null,
            "right": null,
            "justify_content": null,
            "_view_module": "@jupyter-widgets/base",
            "overflow": null,
            "_model_module_version": "1.2.0",
            "_view_count": null,
            "flex_flow": null,
            "width": null,
            "min_width": null,
            "border": null,
            "align_items": null,
            "bottom": null,
            "_model_module": "@jupyter-widgets/base",
            "top": null,
            "grid_column": null,
            "overflow_y": null,
            "overflow_x": null,
            "grid_auto_flow": null,
            "grid_area": null,
            "grid_template_columns": null,
            "flex": null,
            "_model_name": "LayoutModel",
            "justify_items": null,
            "grid_row": null,
            "max_height": null,
            "align_content": null,
            "visibility": null,
            "align_self": null,
            "height": null,
            "min_height": null,
            "padding": null,
            "grid_auto_rows": null,
            "grid_gap": null,
            "max_width": null,
            "order": null,
            "_view_module_version": "1.2.0",
            "grid_template_areas": null,
            "object_position": null,
            "object_fit": null,
            "grid_auto_columns": null,
            "margin": null,
            "display": null,
            "left": null
          }
        },
        "f9be0eea32614539a6d1db12d8f03cfb": {
          "model_module": "@jupyter-widgets/controls",
          "model_name": "ProgressStyleModel",
          "model_module_version": "1.5.0",
          "state": {
            "_view_name": "StyleView",
            "_model_name": "ProgressStyleModel",
            "description_width": "",
            "_view_module": "@jupyter-widgets/base",
            "_model_module_version": "1.5.0",
            "_view_count": null,
            "_view_module_version": "1.2.0",
            "bar_color": null,
            "_model_module": "@jupyter-widgets/controls"
          }
        },
        "8ac75d182d9c43a682b507e584545069": {
          "model_module": "@jupyter-widgets/base",
          "model_name": "LayoutModel",
          "model_module_version": "1.2.0",
          "state": {
            "_view_name": "LayoutView",
            "grid_template_rows": null,
            "right": null,
            "justify_content": null,
            "_view_module": "@jupyter-widgets/base",
            "overflow": null,
            "_model_module_version": "1.2.0",
            "_view_count": null,
            "flex_flow": null,
            "width": null,
            "min_width": null,
            "border": null,
            "align_items": null,
            "bottom": null,
            "_model_module": "@jupyter-widgets/base",
            "top": null,
            "grid_column": null,
            "overflow_y": null,
            "overflow_x": null,
            "grid_auto_flow": null,
            "grid_area": null,
            "grid_template_columns": null,
            "flex": null,
            "_model_name": "LayoutModel",
            "justify_items": null,
            "grid_row": null,
            "max_height": null,
            "align_content": null,
            "visibility": null,
            "align_self": null,
            "height": null,
            "min_height": null,
            "padding": null,
            "grid_auto_rows": null,
            "grid_gap": null,
            "max_width": null,
            "order": null,
            "_view_module_version": "1.2.0",
            "grid_template_areas": null,
            "object_position": null,
            "object_fit": null,
            "grid_auto_columns": null,
            "margin": null,
            "display": null,
            "left": null
          }
        },
        "ed1838bf0c11491c9384d081df16670c": {
          "model_module": "@jupyter-widgets/controls",
          "model_name": "DescriptionStyleModel",
          "model_module_version": "1.5.0",
          "state": {
            "_view_name": "StyleView",
            "_model_name": "DescriptionStyleModel",
            "description_width": "",
            "_view_module": "@jupyter-widgets/base",
            "_model_module_version": "1.5.0",
            "_view_count": null,
            "_view_module_version": "1.2.0",
            "_model_module": "@jupyter-widgets/controls"
          }
        },
        "f4cbc602a875462dadd4d73fca74880d": {
          "model_module": "@jupyter-widgets/base",
          "model_name": "LayoutModel",
          "model_module_version": "1.2.0",
          "state": {
            "_view_name": "LayoutView",
            "grid_template_rows": null,
            "right": null,
            "justify_content": null,
            "_view_module": "@jupyter-widgets/base",
            "overflow": null,
            "_model_module_version": "1.2.0",
            "_view_count": null,
            "flex_flow": null,
            "width": null,
            "min_width": null,
            "border": null,
            "align_items": null,
            "bottom": null,
            "_model_module": "@jupyter-widgets/base",
            "top": null,
            "grid_column": null,
            "overflow_y": null,
            "overflow_x": null,
            "grid_auto_flow": null,
            "grid_area": null,
            "grid_template_columns": null,
            "flex": null,
            "_model_name": "LayoutModel",
            "justify_items": null,
            "grid_row": null,
            "max_height": null,
            "align_content": null,
            "visibility": null,
            "align_self": null,
            "height": null,
            "min_height": null,
            "padding": null,
            "grid_auto_rows": null,
            "grid_gap": null,
            "max_width": null,
            "order": null,
            "_view_module_version": "1.2.0",
            "grid_template_areas": null,
            "object_position": null,
            "object_fit": null,
            "grid_auto_columns": null,
            "margin": null,
            "display": null,
            "left": null
          }
        },
        "07852665b7154b72bb07692ed2c7a353": {
          "model_module": "@jupyter-widgets/controls",
          "model_name": "HBoxModel",
          "model_module_version": "1.5.0",
          "state": {
            "_view_name": "HBoxView",
            "_dom_classes": [],
            "_model_name": "HBoxModel",
            "_view_module": "@jupyter-widgets/controls",
            "_model_module_version": "1.5.0",
            "_view_count": null,
            "_view_module_version": "1.5.0",
            "box_style": "",
            "layout": "IPY_MODEL_88dd24beab0c4fbcb27766b7981fd86a",
            "_model_module": "@jupyter-widgets/controls",
            "children": [
              "IPY_MODEL_975af029736b435c92f7bf8a42a636d4",
              "IPY_MODEL_7084c3600e99418c94f8ec80ba45bac6",
              "IPY_MODEL_b385cdc3036049cabaca4a7f89f77196"
            ]
          }
        },
        "88dd24beab0c4fbcb27766b7981fd86a": {
          "model_module": "@jupyter-widgets/base",
          "model_name": "LayoutModel",
          "model_module_version": "1.2.0",
          "state": {
            "_view_name": "LayoutView",
            "grid_template_rows": null,
            "right": null,
            "justify_content": null,
            "_view_module": "@jupyter-widgets/base",
            "overflow": null,
            "_model_module_version": "1.2.0",
            "_view_count": null,
            "flex_flow": null,
            "width": null,
            "min_width": null,
            "border": null,
            "align_items": null,
            "bottom": null,
            "_model_module": "@jupyter-widgets/base",
            "top": null,
            "grid_column": null,
            "overflow_y": null,
            "overflow_x": null,
            "grid_auto_flow": null,
            "grid_area": null,
            "grid_template_columns": null,
            "flex": null,
            "_model_name": "LayoutModel",
            "justify_items": null,
            "grid_row": null,
            "max_height": null,
            "align_content": null,
            "visibility": null,
            "align_self": null,
            "height": null,
            "min_height": null,
            "padding": null,
            "grid_auto_rows": null,
            "grid_gap": null,
            "max_width": null,
            "order": null,
            "_view_module_version": "1.2.0",
            "grid_template_areas": null,
            "object_position": null,
            "object_fit": null,
            "grid_auto_columns": null,
            "margin": null,
            "display": null,
            "left": null
          }
        },
        "975af029736b435c92f7bf8a42a636d4": {
          "model_module": "@jupyter-widgets/controls",
          "model_name": "HTMLModel",
          "model_module_version": "1.5.0",
          "state": {
            "_view_name": "HTMLView",
            "style": "IPY_MODEL_2e6264027ec74e4792ab0e2f3ef3be87",
            "_dom_classes": [],
            "description": "",
            "_model_name": "HTMLModel",
            "placeholder": "​",
            "_view_module": "@jupyter-widgets/controls",
            "_model_module_version": "1.5.0",
            "value": "100%",
            "_view_count": null,
            "_view_module_version": "1.5.0",
            "description_tooltip": null,
            "_model_module": "@jupyter-widgets/controls",
            "layout": "IPY_MODEL_4ed33ef2a38941229c99bfa7d0898037"
          }
        },
        "7084c3600e99418c94f8ec80ba45bac6": {
          "model_module": "@jupyter-widgets/controls",
          "model_name": "FloatProgressModel",
          "model_module_version": "1.5.0",
          "state": {
            "_view_name": "ProgressView",
            "style": "IPY_MODEL_5a5d09cff9b048f9bace236699f545f1",
            "_dom_classes": [],
            "description": "",
            "_model_name": "FloatProgressModel",
            "bar_style": "success",
            "max": 100000,
            "_view_module": "@jupyter-widgets/controls",
            "_model_module_version": "1.5.0",
            "value": 100000,
            "_view_count": null,
            "_view_module_version": "1.5.0",
            "orientation": "horizontal",
            "min": 0,
            "description_tooltip": null,
            "_model_module": "@jupyter-widgets/controls",
            "layout": "IPY_MODEL_31fef2be94294c4b91f0d18723dea0bf"
          }
        },
        "b385cdc3036049cabaca4a7f89f77196": {
          "model_module": "@jupyter-widgets/controls",
          "model_name": "HTMLModel",
          "model_module_version": "1.5.0",
          "state": {
            "_view_name": "HTMLView",
            "style": "IPY_MODEL_53d871c5da134053876e563cd875e230",
            "_dom_classes": [],
            "description": "",
            "_model_name": "HTMLModel",
            "placeholder": "​",
            "_view_module": "@jupyter-widgets/controls",
            "_model_module_version": "1.5.0",
            "value": " 100000/100000 [00:40&lt;00:00, 2448.67it/s]",
            "_view_count": null,
            "_view_module_version": "1.5.0",
            "description_tooltip": null,
            "_model_module": "@jupyter-widgets/controls",
            "layout": "IPY_MODEL_36b41698d2c24e8f9906bfbb631b68db"
          }
        },
        "2e6264027ec74e4792ab0e2f3ef3be87": {
          "model_module": "@jupyter-widgets/controls",
          "model_name": "DescriptionStyleModel",
          "model_module_version": "1.5.0",
          "state": {
            "_view_name": "StyleView",
            "_model_name": "DescriptionStyleModel",
            "description_width": "",
            "_view_module": "@jupyter-widgets/base",
            "_model_module_version": "1.5.0",
            "_view_count": null,
            "_view_module_version": "1.2.0",
            "_model_module": "@jupyter-widgets/controls"
          }
        },
        "4ed33ef2a38941229c99bfa7d0898037": {
          "model_module": "@jupyter-widgets/base",
          "model_name": "LayoutModel",
          "model_module_version": "1.2.0",
          "state": {
            "_view_name": "LayoutView",
            "grid_template_rows": null,
            "right": null,
            "justify_content": null,
            "_view_module": "@jupyter-widgets/base",
            "overflow": null,
            "_model_module_version": "1.2.0",
            "_view_count": null,
            "flex_flow": null,
            "width": null,
            "min_width": null,
            "border": null,
            "align_items": null,
            "bottom": null,
            "_model_module": "@jupyter-widgets/base",
            "top": null,
            "grid_column": null,
            "overflow_y": null,
            "overflow_x": null,
            "grid_auto_flow": null,
            "grid_area": null,
            "grid_template_columns": null,
            "flex": null,
            "_model_name": "LayoutModel",
            "justify_items": null,
            "grid_row": null,
            "max_height": null,
            "align_content": null,
            "visibility": null,
            "align_self": null,
            "height": null,
            "min_height": null,
            "padding": null,
            "grid_auto_rows": null,
            "grid_gap": null,
            "max_width": null,
            "order": null,
            "_view_module_version": "1.2.0",
            "grid_template_areas": null,
            "object_position": null,
            "object_fit": null,
            "grid_auto_columns": null,
            "margin": null,
            "display": null,
            "left": null
          }
        },
        "5a5d09cff9b048f9bace236699f545f1": {
          "model_module": "@jupyter-widgets/controls",
          "model_name": "ProgressStyleModel",
          "model_module_version": "1.5.0",
          "state": {
            "_view_name": "StyleView",
            "_model_name": "ProgressStyleModel",
            "description_width": "",
            "_view_module": "@jupyter-widgets/base",
            "_model_module_version": "1.5.0",
            "_view_count": null,
            "_view_module_version": "1.2.0",
            "bar_color": null,
            "_model_module": "@jupyter-widgets/controls"
          }
        },
        "31fef2be94294c4b91f0d18723dea0bf": {
          "model_module": "@jupyter-widgets/base",
          "model_name": "LayoutModel",
          "model_module_version": "1.2.0",
          "state": {
            "_view_name": "LayoutView",
            "grid_template_rows": null,
            "right": null,
            "justify_content": null,
            "_view_module": "@jupyter-widgets/base",
            "overflow": null,
            "_model_module_version": "1.2.0",
            "_view_count": null,
            "flex_flow": null,
            "width": null,
            "min_width": null,
            "border": null,
            "align_items": null,
            "bottom": null,
            "_model_module": "@jupyter-widgets/base",
            "top": null,
            "grid_column": null,
            "overflow_y": null,
            "overflow_x": null,
            "grid_auto_flow": null,
            "grid_area": null,
            "grid_template_columns": null,
            "flex": null,
            "_model_name": "LayoutModel",
            "justify_items": null,
            "grid_row": null,
            "max_height": null,
            "align_content": null,
            "visibility": null,
            "align_self": null,
            "height": null,
            "min_height": null,
            "padding": null,
            "grid_auto_rows": null,
            "grid_gap": null,
            "max_width": null,
            "order": null,
            "_view_module_version": "1.2.0",
            "grid_template_areas": null,
            "object_position": null,
            "object_fit": null,
            "grid_auto_columns": null,
            "margin": null,
            "display": null,
            "left": null
          }
        },
        "53d871c5da134053876e563cd875e230": {
          "model_module": "@jupyter-widgets/controls",
          "model_name": "DescriptionStyleModel",
          "model_module_version": "1.5.0",
          "state": {
            "_view_name": "StyleView",
            "_model_name": "DescriptionStyleModel",
            "description_width": "",
            "_view_module": "@jupyter-widgets/base",
            "_model_module_version": "1.5.0",
            "_view_count": null,
            "_view_module_version": "1.2.0",
            "_model_module": "@jupyter-widgets/controls"
          }
        },
        "36b41698d2c24e8f9906bfbb631b68db": {
          "model_module": "@jupyter-widgets/base",
          "model_name": "LayoutModel",
          "model_module_version": "1.2.0",
          "state": {
            "_view_name": "LayoutView",
            "grid_template_rows": null,
            "right": null,
            "justify_content": null,
            "_view_module": "@jupyter-widgets/base",
            "overflow": null,
            "_model_module_version": "1.2.0",
            "_view_count": null,
            "flex_flow": null,
            "width": null,
            "min_width": null,
            "border": null,
            "align_items": null,
            "bottom": null,
            "_model_module": "@jupyter-widgets/base",
            "top": null,
            "grid_column": null,
            "overflow_y": null,
            "overflow_x": null,
            "grid_auto_flow": null,
            "grid_area": null,
            "grid_template_columns": null,
            "flex": null,
            "_model_name": "LayoutModel",
            "justify_items": null,
            "grid_row": null,
            "max_height": null,
            "align_content": null,
            "visibility": null,
            "align_self": null,
            "height": null,
            "min_height": null,
            "padding": null,
            "grid_auto_rows": null,
            "grid_gap": null,
            "max_width": null,
            "order": null,
            "_view_module_version": "1.2.0",
            "grid_template_areas": null,
            "object_position": null,
            "object_fit": null,
            "grid_auto_columns": null,
            "margin": null,
            "display": null,
            "left": null
          }
        }
      }
    }
  },
  "cells": [
    {
      "cell_type": "markdown",
      "metadata": {
        "id": "FzjP-l3j_Iv6"
      },
      "source": [
        "# Numerical simulations related to the paper *Pricing under rough volatility*"
      ]
    },
    {
      "cell_type": "markdown",
      "metadata": {
        "id": "3O-AwXg1ZWQy"
      },
      "source": [
        "#### Useful imports"
      ]
    },
    {
      "cell_type": "code",
      "metadata": {
        "id": "-vosDB0OuqWD"
      },
      "source": [
        "import numpy as np\n",
        "import scipy.special as sc\n",
        "import matplotlib.pyplot as plt\n",
        "from tqdm.notebook import tqdm\n",
        "import scipy.stats as ssn\n",
        "import scipy.optimize"
      ],
      "execution_count": null,
      "outputs": []
    },
    {
      "cell_type": "markdown",
      "metadata": {
        "id": "iddniNRo_MKp"
      },
      "source": [
        "# Simulation of the rBergomi model"
      ]
    },
    {
      "cell_type": "markdown",
      "metadata": {
        "id": "b_xqXxMDcVh3"
      },
      "source": [
        "### Parameters"
      ]
    },
    {
      "cell_type": "markdown",
      "metadata": {
        "id": "3Tj5tbox_NVA"
      },
      "source": [
        "#### Real model parameters: $H$, $\\eta$ and $\\rho$"
      ]
    },
    {
      "cell_type": "code",
      "metadata": {
        "id": "4W32nBLybiKl"
      },
      "source": [
        "H = 0.1 # Hurst exponent of the underlying fractional brownian motion\n",
        "eta = 1\n",
        "rho = 0.5 # correlation constant between Z (brownian motion driving the price process of the asset S) and W (brownian motion driving volatility's evolution)"
      ],
      "execution_count": null,
      "outputs": []
    },
    {
      "cell_type": "markdown",
      "metadata": {
        "id": "PW0jYRLOcFTI"
      },
      "source": [
        "#### Additional parameter: $\\xi_0(u)$"
      ]
    },
    {
      "cell_type": "code",
      "metadata": {
        "id": "5gITCrZ4cMX4"
      },
      "source": [
        "xi0 = 1 # xi0(u) is assumed to be constant"
      ],
      "execution_count": null,
      "outputs": []
    },
    {
      "cell_type": "markdown",
      "metadata": {
        "id": "sJWfx2VQbqPG"
      },
      "source": [
        "#### Computed constants for the purpose of this simulation"
      ]
    },
    {
      "cell_type": "code",
      "metadata": {
        "id": "Ko7ZrPXSusBc"
      },
      "source": [
        "T = 1 # time scale (1 year)\n",
        "m = 100  # number of time steps between 0 and T\n",
        "delta = T / m # duration of a time step\n",
        "gamma = 0.5 - H\n",
        "DH = ((2 * H) ** 0.5) / (H + 0.5)\n",
        "time = np.array([i * delta for i in range (m + 1)])\n",
        "v0 = xi0\n",
        "S0 = 1"
      ],
      "execution_count": null,
      "outputs": []
    },
    {
      "cell_type": "markdown",
      "metadata": {
        "id": "yZjSmDxv_TWr"
      },
      "source": [
        "### Simulation of $W$ and $Z$"
      ]
    },
    {
      "cell_type": "markdown",
      "metadata": {
        "id": "jAS-KlzPczFz"
      },
      "source": [
        "#### Auxiliary functions"
      ]
    },
    {
      "cell_type": "code",
      "metadata": {
        "id": "bnNY6vy3uuT8"
      },
      "source": [
        "def G(z):\n",
        "    return ((1 - 2 * gamma) / (1 - gamma)) * (z ** gamma) * sc.hyp2f1(1, gamma, 2 - gamma, z)"
      ],
      "execution_count": null,
      "outputs": []
    },
    {
      "cell_type": "code",
      "metadata": {
        "id": "8VJJHOtHeuyI"
      },
      "source": [
        "def compute_covariance_Wu_Wv(u, v): # supposing u less or equal than v. Note that G(1) = 1\n",
        "  if (u == 0): return 0\n",
        "  return (u ** (2 * H)) * G (u / v)"
      ],
      "execution_count": null,
      "outputs": []
    },
    {
      "cell_type": "code",
      "metadata": {
        "id": "BBqYu2oohEq7"
      },
      "source": [
        "def compute_covariance_Wu_Zv(u, v): # computing covariance bewteen Wu and Zv!\n",
        "  return rho * DH * (u ** (H + 0.5) - (u - min(u, v)) ** (H + 0.5))"
      ],
      "execution_count": null,
      "outputs": []
    },
    {
      "cell_type": "code",
      "metadata": {
        "id": "S7Iw9SZmfUOV"
      },
      "source": [
        "def compute_covariance_matrix_W_Z():\n",
        "  # Initialization\n",
        "  cov = np.zeros((2 * m, 2 * m))\n",
        "\n",
        "  # Covariances between Wu and Wv\n",
        "  for i in range (m):\n",
        "    for j in range (i, m):\n",
        "      u, v = (i + 1) * delta, (j + 1) * delta\n",
        "      cov[i, j] = compute_covariance_Wu_Wv(u, v) # u is indeed less than v\n",
        "      cov[j, i] = cov[i, j]\n",
        "\n",
        "  # Covariances between Wu and Zv\n",
        "  for i in range (m):\n",
        "    for j in range (m, 2 * m):\n",
        "      u, v = (i + 1) * delta, (j + 1 - m) * delta\n",
        "      cov[i, j] = compute_covariance_Wu_Zv(u, v)\n",
        "      cov[j, i] = cov[i, j]\n",
        "\n",
        "  # Covariances between Zu and Zv\n",
        "  for i in range (m, 2 * m):\n",
        "    for j in range (i, 2 * m):\n",
        "      u, v = (i + 1 - m) * delta, (j + 1 - m) * delta # v is greater than u (or equal)\n",
        "      cov[i, j] = u\n",
        "      cov[j, i] = cov[i, j]\n",
        "\n",
        "  return cov"
      ],
      "execution_count": null,
      "outputs": []
    },
    {
      "cell_type": "markdown",
      "metadata": {
        "id": "r4NSdCaEdLWE"
      },
      "source": [
        "#### Effective simulation of $W$ and $Z$"
      ]
    },
    {
      "cell_type": "code",
      "metadata": {
        "id": "J16uVGIFBz97"
      },
      "source": [
        "def generate_cholesky():\n",
        "  cov = compute_covariance_matrix_W_Z()\n",
        "  # Cholesky decomposition\n",
        "  return np.linalg.cholesky(cov)"
      ],
      "execution_count": null,
      "outputs": []
    },
    {
      "cell_type": "code",
      "metadata": {
        "id": "b5zSUUvgdHYt"
      },
      "source": [
        "def generate_WZ(cholesky):\n",
        "    WZ = np.random.normal(0, 1, 2 * m)\n",
        "    WZ = cholesky @ WZ\n",
        "    return WZ[:m], WZ[m:]"
      ],
      "execution_count": null,
      "outputs": []
    },
    {
      "cell_type": "markdown",
      "metadata": {
        "id": "fVET6tq7_ZLl"
      },
      "source": [
        "### Simulation of $v$ and $S$\n"
      ]
    },
    {
      "cell_type": "code",
      "metadata": {
        "id": "opg2UWvIIl39"
      },
      "source": [
        "def generate_matrix_add_zero(): # Rajoute 0 en haut d'un vecteur (m, 1)\n",
        "  matrix_add_zero = np.zeros((m + 1, m))\n",
        "  for i in range (1, m + 1):\n",
        "    matrix_add_zero[i, i - 1] = 1\n",
        "  return matrix_add_zero\n",
        "\n",
        "matrix_add_zero = generate_matrix_add_zero()"
      ],
      "execution_count": null,
      "outputs": []
    },
    {
      "cell_type": "code",
      "metadata": {
        "id": "bUm3S9YUkKKt"
      },
      "source": [
        "def generate_v(W, Z):\n",
        "  variance_W = np.array([(i * delta) ** (2 * H) for i in range (m + 1)])\n",
        "  return xi0 * np.exp(eta * (matrix_add_zero @ W) - 0.5 * (eta ** 2) * variance_W) # TO BE CHECKED"
      ],
      "execution_count": null,
      "outputs": []
    },
    {
      "cell_type": "code",
      "metadata": {
        "id": "hzyICn7g0gyX"
      },
      "source": [
        "def generate_matrix_differences(): # this matrix M will have shape (m, m), so that M multiplied by Z will give [Z1 - Z0, ..., Zm - Z(m-1)] with Z0 = 0\n",
        "  diff_matrix = np.zeros((m, m))\n",
        "  for i in range (1, m):\n",
        "    diff_matrix[i, i] = 1\n",
        "    diff_matrix[i, i - 1] = -1\n",
        "  diff_matrix[0, 0] = 1\n",
        "  return diff_matrix\n",
        "\n",
        "diff_matrix = generate_matrix_differences()"
      ],
      "execution_count": null,
      "outputs": []
    },
    {
      "cell_type": "code",
      "metadata": {
        "id": "8oss4xhk3FSy"
      },
      "source": [
        "def generate_inverse_matrix_differences(): # this matrix M will have shape (m + 1, m), so that M multiplied by [X1 - X0, ..., Xm - X(m-1)] will give [0, X1 - X0, X2 - X0, ..., Xm - X0]\n",
        "  diff_matrix_inverse = np.zeros((m + 1, m))\n",
        "  for i in range (1, m + 1):\n",
        "    for j in range (i):\n",
        "      diff_matrix_inverse[i, j] = 1\n",
        "  return diff_matrix_inverse\n",
        "\n",
        "diff_matrix_inverse = generate_inverse_matrix_differences()"
      ],
      "execution_count": null,
      "outputs": []
    },
    {
      "cell_type": "markdown",
      "metadata": {
        "id": "JMvprCSjz5mT"
      },
      "source": [
        "In the following code, $X_t$ denotes $\\log{S_t}$."
      ]
    },
    {
      "cell_type": "code",
      "metadata": {
        "id": "lXVkppEHuxVb"
      },
      "source": [
        "def generate_S(W, Z, v): # v is necessary to generate S\n",
        "    ## Using an Euler Scheme to generate S\n",
        "    dX = - 0.5 * delta * v[:m]  + np.sqrt(v[:m]) * (diff_matrix @ Z) # dX = [X1 - X0, ..., Xm - X(m-1)]\n",
        "    X = diff_matrix_inverse @ dX + np.log(S0) * np.ones((m + 1)) # X = [X0, ..., Xm]\n",
        "    S = np.exp(X)\n",
        "    return S"
      ],
      "execution_count": null,
      "outputs": []
    },
    {
      "cell_type": "code",
      "metadata": {
        "id": "Us1cvYXn4n2O"
      },
      "source": [
        "def generate_vS(cholesky):\n",
        "  W, Z = generate_WZ(cholesky)\n",
        "  v = generate_v(W, Z)\n",
        "  S = generate_S(W, Z, v)\n",
        "  return v, S"
      ],
      "execution_count": null,
      "outputs": []
    },
    {
      "cell_type": "code",
      "metadata": {
        "id": "BfI2kKN5tCX0"
      },
      "source": [
        "def plot_vS(cholesky):\n",
        "  v, S = generate_vS(cholesky)\n",
        "  plt.plot(time, S, label=r'Price of asset $S$')\n",
        "  plt.xlabel(r\"Time $t$\")\n",
        "  plt.plot(time, v, label=r'Volatility $v$')\n",
        "  plt.xlabel(r\"Time $t$\")\n",
        "  plt.legend()\n",
        "  plt.show()"
      ],
      "execution_count": null,
      "outputs": []
    },
    {
      "cell_type": "code",
      "metadata": {
        "colab": {
          "base_uri": "https://localhost:8080/",
          "height": 281
        },
        "id": "V8NmZYzMu1DB",
        "outputId": "c1d760ca-0e41-4458-8506-415809ee0129"
      },
      "source": [
        "plot_vS(generate_cholesky())"
      ],
      "execution_count": null,
      "outputs": [
        {
          "output_type": "display_data",
          "data": {
            "image/png": "[encoded data removed]",
            "text/plain": [
              "<Figure size 432x288 with 1 Axes>"
            ]
          },
          "metadata": {
            "needs_background": "light"
          }
        }
      ]
    },
    {
      "cell_type": "markdown",
      "metadata": {
        "id": "VFuJUw4o_i34"
      },
      "source": [
        "### Pricing of European options"
      ]
    },
    {
      "cell_type": "code",
      "metadata": {
        "id": "mJpbMcdBu2oV"
      },
      "source": [
        "def expected_payoff_Monte_Carlo(cholesky, number_simulations, K, maturity): # K is the strike, and number_simulations is the number of simulations. One maturity and one strike\n",
        "    time_step = min(int((maturity / T) * (m + 1)), m) # must be less or equal to m\n",
        "    sum_payoff = 0\n",
        "    for _ in tqdm(range(number_simulations)):\n",
        "        v, S = generate_vS(cholesky)\n",
        "        sum_payoff += max(0, S[time_step] - K)\n",
        "    return sum_payoff / number_simulations"
      ],
      "execution_count": null,
      "outputs": []
    },
    {
      "cell_type": "code",
      "metadata": {
        "colab": {
          "base_uri": "https://localhost:8080/",
          "height": 66,
          "referenced_widgets": [
            "0a298bd5ba03475a869d1708db754865",
            "78a0cbc072d0488385f5fc6427c15867",
            "dbafff016c94442bbc3894423956952d",
            "e9247e015e134bf59f50c34ae08430ea",
            "c28a9947c4e6454c97da694340f629c7",
            "5807671033c54cf19d38f968b1f99fc6",
            "c8cb51c897d2480f9f62f41bee61e76b",
            "149613d62c004580ac990289116ece10",
            "e24c6f2803d64e89860c2c91d1090c3e",
            "26371def4bbf4dc4ac63bda19e75c77b",
            "35938a6b1662406681c775340fc494c3"
          ]
        },
        "id": "sFCGMAb-u5t4",
        "outputId": "318abbb8-732c-4ab7-be71-86ee50d58deb"
      },
      "source": [
        "expected_payoff_Monte_Carlo(generate_cholesky(), 5000, 0.9, 1)"
      ],
      "execution_count": null,
      "outputs": [
        {
          "output_type": "display_data",
          "data": {
            "application/vnd.jupyter.widget-view+json": {
              "model_id": "0a298bd5ba03475a869d1708db754865",
              "version_minor": 0,
              "version_major": 2
            },
            "text/plain": [
              "  0%|          | 0/5000 [00:00<?, ?it/s]"
            ]
          },
          "metadata": {}
        },
        {
          "output_type": "execute_result",
          "data": {
            "text/plain": [
              "0.3703938845263227"
            ]
          },
          "metadata": {},
          "execution_count": 122
        }
      ]
    },
    {
      "cell_type": "code",
      "metadata": {
        "id": "-T6l9qJsn5H8"
      },
      "source": [
        "def expected_payoff_Monte_Carlo_reusing_simulations(cholesky, number_simulations, list_K, maturity): #list_K is the list of strikes. One maturity and a list of strikes\n",
        "  time_step = min(int((maturity / T) * (m + 1)), m) # must be less or equal to m\n",
        "  sum_payoff = np.zeros(list_K.shape[0])\n",
        "  for _ in tqdm(range(number_simulations)):\n",
        "      v, S = generate_vS(cholesky)\n",
        "      sum_payoff += np.maximum(0, S[time_step] - list_K)\n",
        "  return sum_payoff / number_simulations # returns a list of option prices corresponding to the same maturity but different strikes"
      ],
      "execution_count": null,
      "outputs": []
    },
    {
      "cell_type": "code",
      "metadata": {
        "colab": {
          "base_uri": "https://localhost:8080/",
          "height": 66,
          "referenced_widgets": [
            "e73251e42b1b4137bbcffab6131b60c2",
            "5535a350aff04ffca7822fae4cf7ed58",
            "3bdf4c10172a4ee58246b984fde51fa4",
            "0346befa108f4187a149b020a0899b54",
            "b3d98d3775c24499b1f17f311c92a133",
            "ad597ae02b734c449ee32fa6f20bf9e0",
            "23118de54cfe44d6ab6b5d38e9f3085c",
            "8013927db6d4497598bebdc62228eb6e",
            "c139d5b64c2e4175a7eda0af6947ada6",
            "a8f12fcc9994489dad84860be5f94f9f",
            "0b7ea2c4066349fd8e2f4c9dd7975200"
          ]
        },
        "id": "u_6Iw5fOoj-a",
        "outputId": "3b59e9d7-ed3c-4ca9-a230-08fe208ee47e"
      },
      "source": [
        "expected_payoff_Monte_Carlo_reusing_simulations(generate_cholesky(), 10000, np.array([0.5, 1., 1.5]), 1)"
      ],
      "execution_count": null,
      "outputs": [
        {
          "output_type": "display_data",
          "data": {
            "application/vnd.jupyter.widget-view+json": {
              "model_id": "e73251e42b1b4137bbcffab6131b60c2",
              "version_minor": 0,
              "version_major": 2
            },
            "text/plain": [
              "  0%|          | 0/10000 [00:00<?, ?it/s]"
            ]
          },
          "metadata": {}
        },
        {
          "output_type": "execute_result",
          "data": {
            "text/plain": [
              "array([0.57510587, 0.37701261, 0.27785903])"
            ]
          },
          "metadata": {},
          "execution_count": 124
        }
      ]
    },
    {
      "cell_type": "code",
      "metadata": {
        "id": "alJdHH0RBm0i"
      },
      "source": [
        "def expected_payoff_Monte_Carlo_reusing_simulations_different_maturities(cholesky, number_simulations, list_K, maturities): #list_K is the list of strikes. A list of maturities, and a list of strikes for each maturity\n",
        "  number_maturities, number_K = list_K.shape\n",
        "  time_step = np.minimum(np.floor((maturities / T) * (m + 1)), m) # must be less or equal to m\n",
        "  sum_payoff = np.zeros((number_maturities, number_K))\n",
        "  for _ in tqdm(range(number_simulations)):\n",
        "      v, S = generate_vS(cholesky)\n",
        "      for i in range (number_maturities):\n",
        "        sum_payoff[i] += np.maximum(0, S[int(time_step[i])] - list_K[i])\n",
        "  return sum_payoff / number_simulations # returns a list of option prices corresponding to the same maturity but different strikes"
      ],
      "execution_count": null,
      "outputs": []
    },
    {
      "cell_type": "code",
      "metadata": {
        "colab": {
          "base_uri": "https://localhost:8080/",
          "height": 83,
          "referenced_widgets": [
            "4adbb9f3a6304710b48bb861fc71090b",
            "f270d16c3d9841b991a2d5777919a50a",
            "f23030842b2b4f1699ebafd323d0f334",
            "74623ede2ef24ff999f4466bd3b6cdc0",
            "bb07e7b311c24605bd07b5a651df9f9b",
            "386af8faef8d49f19a9a5ae2d36ea0ad",
            "cdc8ac2868264f12bea3fe2ee6c7a709",
            "8fe22df71a9846588823effc9c8e7e27",
            "5e1134d77a5944dfbc64437b92c4dbdb",
            "4a22a56633224f879ba2076278adf9c6",
            "ab7e65f5b97c4319946fb17ac41d4912"
          ]
        },
        "id": "FhUIpLyzCk2c",
        "outputId": "3fa3a0fb-ebab-4704-a9e8-ff71f9a106da"
      },
      "source": [
        "expected_payoff_Monte_Carlo_reusing_simulations_different_maturities(generate_cholesky(), 10000, np.array([[0.1, 0.2], [0.2, 0.25]]), np.array([0.1, 0.12]))"
      ],
      "execution_count": null,
      "outputs": [
        {
          "output_type": "display_data",
          "data": {
            "application/vnd.jupyter.widget-view+json": {
              "model_id": "4adbb9f3a6304710b48bb861fc71090b",
              "version_minor": 0,
              "version_major": 2
            },
            "text/plain": [
              "  0%|          | 0/10000 [00:00<?, ?it/s]"
            ]
          },
          "metadata": {}
        },
        {
          "output_type": "execute_result",
          "data": {
            "text/plain": [
              "array([[0.89938026, 0.79938026],\n",
              "       [0.79938026, 0.74938026]])"
            ]
          },
          "metadata": {},
          "execution_count": 153
        }
      ]
    },
    {
      "cell_type": "markdown",
      "metadata": {
        "id": "cLYye_KkwMIb"
      },
      "source": [
        "### Estimation of implied volatility"
      ]
    },
    {
      "cell_type": "markdown",
      "metadata": {
        "id": "cK941XbYwPfg"
      },
      "source": [
        "#### Black-Scholes model"
      ]
    },
    {
      "cell_type": "code",
      "metadata": {
        "id": "Umbb3iOSu6Nr"
      },
      "source": [
        "def black_scholes(volatility, K, maturity): # K is the strike, t is the maturity\n",
        "    v = maturity * (volatility ** 2)\n",
        "    dplus = np.log(S0 / K) / (v ** 0.5) + 0.5 * (v ** 0.5)\n",
        "    dminus = np.log(S0/K) / (v ** 0.5) - 0.5 * (v ** 0.5)\n",
        "    return S0 * ssn.norm.cdf(dplus) - K * ssn.norm.cdf(dminus)"
      ],
      "execution_count": null,
      "outputs": []
    },
    {
      "cell_type": "code",
      "metadata": {
        "id": "0OCaSn0exdha"
      },
      "source": [
        "def plot_black_scholes(K):\n",
        "  volatilities = np.array([i / 100 for i in range (1, 1001)])\n",
        "  options = np.array([black_scholes(volatility, K, 1) for volatility in volatilities])\n",
        "  plt.xlabel(r\"Volatility $\\sigma_{BS}$\")\n",
        "  plt.ylabel(r\"Price of the European option with volatility $v$ and strike $K = \" + str(K) +\"$\")\n",
        "  plt.plot(volatilities, options)\n",
        "  plt.show()"
      ],
      "execution_count": null,
      "outputs": []
    },
    {
      "cell_type": "code",
      "metadata": {
        "colab": {
          "base_uri": "https://localhost:8080/",
          "height": 665
        },
        "id": "2LRSQPpUyKSF",
        "outputId": "09905fea-0339-4f8f-e0c3-5eea2487bc9a"
      },
      "source": [
        "plot_black_scholes(0.1)\n",
        "plot_black_scholes(2)"
      ],
      "execution_count": null,
      "outputs": [
        {
          "output_type": "display_data",
          "data": {
            "image/png": "[encoded data removed]",
            "text/plain": [
              "<Figure size 432x288 with 1 Axes>"
            ]
          },
          "metadata": {
            "needs_background": "light"
          }
        },
        {
          "output_type": "display_data",
          "data": {
            "image/png": "[encoded data removed]",
            "text/plain": [
              "<Figure size 432x288 with 1 Axes>"
            ]
          },
          "metadata": {
            "needs_background": "light"
          }
        }
      ]
    },
    {
      "cell_type": "markdown",
      "metadata": {
        "id": "wEqp3MOSy_GI"
      },
      "source": [
        "#### Inverting Black-Scholes"
      ]
    },
    {
      "cell_type": "code",
      "metadata": {
        "id": "DN9x_mswzDCC"
      },
      "source": [
        "def invert_black_scholes(K, maturity, option_price, inf_volatility = 1e-15, sup_volatility = 10):\n",
        "  f = lambda volatility : black_scholes(volatility, K, maturity) - option_price\n",
        "  return scipy.optimize.bisect(f, inf_volatility, sup_volatility)"
      ],
      "execution_count": null,
      "outputs": []
    },
    {
      "cell_type": "code",
      "metadata": {
        "colab": {
          "base_uri": "https://localhost:8080/"
        },
        "id": "mC0heqYN0_Yc",
        "outputId": "375cf5ad-5bda-42af-b344-9f6f22f8a6ce"
      },
      "source": [
        "print(invert_black_scholes(0.1, 1., 0.92, 1e-5, 10))\n",
        "print(invert_black_scholes(0.1, 1., 0.94, 1e-5, 10))\n",
        "# Consistent with above graphs"
      ],
      "execution_count": null,
      "outputs": [
        {
          "output_type": "stream",
          "name": "stdout",
          "text": [
            "1.7846306732548185\n",
            "2.295332354471053\n"
          ]
        }
      ]
    },
    {
      "cell_type": "markdown",
      "metadata": {
        "id": "7g-yeGUq2XA1"
      },
      "source": [
        "### Estimation of $\\sigma_{BS}(k, t)$ (implied volatility when pricing a European option with log-strike $k$ and maturity $t \\in [0, 1]$ with rBergomi model with parameters $H$, $\\eta$ and $\\rho$)"
      ]
    },
    {
      "cell_type": "code",
      "metadata": {
        "id": "QY4uWETI3FIb"
      },
      "source": [
        "def implied_volatility(cholesky, k, maturity, number_simulations): # number_simulations is the number of simulations for Monte Carlo pricing. One log-strike and one maturity\n",
        "  K = S0 * np.exp(k)\n",
        "  option_price = expected_payoff_Monte_Carlo(cholesky, number_simulations, K, maturity)\n",
        "  return invert_black_scholes(K, maturity, option_price)"
      ],
      "execution_count": null,
      "outputs": []
    },
    {
      "cell_type": "code",
      "metadata": {
        "colab": {
          "base_uri": "https://localhost:8080/",
          "height": 66,
          "referenced_widgets": [
            "3a87b360fbd64516a78a4d570fd4a487",
            "067f1e9dc3d74f838609db7c753d9c85",
            "b95eb69f424649b3817b64de26c30c52",
            "fda2d96ca3bf48118bdd4ca1add213af",
            "3f39ad04bb1845049dd6e6d6c07e8e40",
            "d1cdd6d86f74418c98fcab3c79226284",
            "db9c66ac85ca4399a541de7dc5e2a703",
            "211e608d37fe4434a5e1aec6c4637baf",
            "c6d20110e2b740fbbc85b5aa310d0c75",
            "3c4dd7440f3f4af7a84122c6823595e8",
            "c3315373c5834db89ff186e025a09520"
          ]
        },
        "id": "2bz9oA7-4uhS",
        "outputId": "cbeff8fc-f072-41a7-9980-9df7d65bae59"
      },
      "source": [
        "implied_volatility(generate_cholesky(), 0.1, 1, 100000)"
      ],
      "execution_count": null,
      "outputs": [
        {
          "output_type": "display_data",
          "data": {
            "application/vnd.jupyter.widget-view+json": {
              "model_id": "3a87b360fbd64516a78a4d570fd4a487",
              "version_minor": 0,
              "version_major": 2
            },
            "text/plain": [
              "  0%|          | 0/100000 [00:00<?, ?it/s]"
            ]
          },
          "metadata": {}
        },
        {
          "output_type": "execute_result",
          "data": {
            "text/plain": [
              "1.023071920961912"
            ]
          },
          "metadata": {},
          "execution_count": 131
        }
      ]
    },
    {
      "cell_type": "code",
      "metadata": {
        "id": "0T2YVsmInaAG"
      },
      "source": [
        "def implied_volatility_reusing_simulations(cholesky, list_k, maturity, number_simulations): # One maturity and a list of strikes\n",
        "  list_K = S0 * np.exp(list_k)\n",
        "  option_prices = expected_payoff_Monte_Carlo_reusing_simulations(cholesky, number_simulations, list_K, maturity)\n",
        "  return np.array([invert_black_scholes(list_K[i], maturity, option_prices[i]) for i in range (list_K.shape[0])])"
      ],
      "execution_count": null,
      "outputs": []
    },
    {
      "cell_type": "code",
      "metadata": {
        "colab": {
          "base_uri": "https://localhost:8080/",
          "height": 66,
          "referenced_widgets": [
            "c24d99a9d7dc487291ae7e2269b930b0",
            "80947ac0f81a47e5b4139d328bd40799",
            "bd2f8ea1f3124340b74b5dd8402d9dc3",
            "6b95e920b7f745fd8a839316becbb2bb",
            "53f27e15808f43db93c27b68293301f4",
            "f1743967f0c745eb8ec3391ef026dbee",
            "bee41402d7b14daf9043ead2912bcfff",
            "b29149ec0d1249009deeb24adefa24e4",
            "15091fceb2014c4dbfdc94cc8b1d6e21",
            "3e687fdbe1cd47ef80e85ba631d8e61c",
            "6b9752d01d0c49008fd4b629ceddeccf"
          ]
        },
        "id": "Cr7Lvsjzqsw4",
        "outputId": "ebd5fc91-8bfc-4663-fe00-e79751dc5aa8"
      },
      "source": [
        "implied_volatility_reusing_simulations(generate_cholesky(), np.array([0.1, 0.2, 0.3]), 1, 10000)"
      ],
      "execution_count": null,
      "outputs": [
        {
          "output_type": "display_data",
          "data": {
            "application/vnd.jupyter.widget-view+json": {
              "model_id": "c24d99a9d7dc487291ae7e2269b930b0",
              "version_minor": 0,
              "version_major": 2
            },
            "text/plain": [
              "  0%|          | 0/10000 [00:00<?, ?it/s]"
            ]
          },
          "metadata": {}
        },
        {
          "output_type": "execute_result",
          "data": {
            "text/plain": [
              "array([4.99036278e-02, 5.10530185e-02, 1.00000000e-15])"
            ]
          },
          "metadata": {},
          "execution_count": 178
        }
      ]
    },
    {
      "cell_type": "code",
      "metadata": {
        "id": "ar0JqDkIDqyX"
      },
      "source": [
        "def implied_volatility_reusing_simulations_different_maturities(cholesky, list_k, maturities, number_simulations): # A list of maturities and a list of strikes for each maturity\n",
        "  number_maturities, number_K = list_k.shape\n",
        "  list_K = S0 * np.exp(list_k)\n",
        "  option_prices = expected_payoff_Monte_Carlo_reusing_simulations_different_maturities(cholesky, number_simulations, list_K, maturities)\n",
        "  return np.array([[invert_black_scholes(list_K[i, j], maturities[i], option_prices[i, j]) for j in range (number_K)] for i in range (number_maturities)])"
      ],
      "execution_count": null,
      "outputs": []
    },
    {
      "cell_type": "code",
      "metadata": {
        "colab": {
          "base_uri": "https://localhost:8080/",
          "height": 83,
          "referenced_widgets": [
            "3d29d9cc59d04eacb7b3916fad012bce",
            "8436a1910e2d4bb783e7d1abc85a34f9",
            "dd8d1c3c6aec4816af9a670537f0d264",
            "049d491e4ac4483e8a27236f371243c9",
            "32278316fe83480c96ebc4c12a0ebd9a",
            "1ab629ba8365499b9376ecdc143bc186",
            "8de19c855d914f1dbd86f1911042ed2d",
            "0931f324323d4016a7945ba8506d745a",
            "dda34cad4a044095bfbbe89a2d0aba02",
            "facd4eafbc1b403cb7d321b42e95febf",
            "764af62e50434f1fbf227ec9b0c19473"
          ]
        },
        "id": "dENKjE9yEUkM",
        "outputId": "3707eebf-4c77-4596-8036-db0e69e2c8f1"
      },
      "source": [
        "implied_volatility_reusing_simulations_different_maturities(generate_cholesky(), np.array([[0.1, 0.2], [0.1, 0.2]]), np.array([0.5, 1.0]), 10000)"
      ],
      "execution_count": null,
      "outputs": [
        {
          "output_type": "display_data",
          "data": {
            "application/vnd.jupyter.widget-view+json": {
              "model_id": "3d29d9cc59d04eacb7b3916fad012bce",
              "version_minor": 0,
              "version_major": 2
            },
            "text/plain": [
              "  0%|          | 0/10000 [00:00<?, ?it/s]"
            ]
          },
          "metadata": {}
        },
        {
          "output_type": "execute_result",
          "data": {
            "text/plain": [
              "array([[0.07071769, 0.09214387],\n",
              "       [0.05000496, 0.06515555]])"
            ]
          },
          "metadata": {},
          "execution_count": 181
        }
      ]
    },
    {
      "cell_type": "code",
      "metadata": {
        "id": "V_IMzm608ZbO"
      },
      "source": [
        "def plot_implied_volatility(maturity, inf_k, sup_k, number_k, number_simulations): # number_simulations is the number of simulations for Monte Carlo pricing, number_k is the number of k for which we are launching those simulations\n",
        "  cholesky = generate_cholesky()\n",
        "  list_k = np.linspace(inf_k, sup_k, number_k)\n",
        "  implied_volatilities = np.array([implied_volatility(cholesky, k, maturity, number_simulations) for k in list_k])\n",
        "  plt.xlabel(r\"Log-strike $k$\")\n",
        "  plt.ylabel(r\"Implied volatility $\\sigma_{BS}(k, T)$ with $T = \" + str(maturity) + \"$\")\n",
        "  plt.plot(list_k, implied_volatilities)\n",
        "  plt.show()"
      ],
      "execution_count": null,
      "outputs": []
    },
    {
      "cell_type": "code",
      "metadata": {
        "id": "0NrVE0vorZbv"
      },
      "source": [
        "def plot_implied_volatility_reusing_simulations(maturity, inf_k, sup_k, number_k, number_simulations): # number_simulations is the number of simulations for Monte Carlo pricing, number_k is the number of k for which we are launching those simulations\n",
        "  # one maturity and a list of strikes\n",
        "  cholesky = generate_cholesky()\n",
        "  list_k = np.linspace(inf_k, sup_k, number_k)\n",
        "  implied_volatilities = implied_volatility_reusing_simulations(cholesky, list_k, maturity, number_simulations)\n",
        "  plt.xlabel(r\"Log-strike $k$\")\n",
        "  plt.ylabel(r\"Implied volatility $\\sigma_{BS}(k, T)$ with $T = \" + str(maturity) + \"$\")\n",
        "  plt.plot(list_k, implied_volatilities)\n",
        "  plt.show()"
      ],
      "execution_count": null,
      "outputs": []
    },
    {
      "cell_type": "code",
      "metadata": {
        "id": "1k4SWf5RGwFj"
      },
      "source": [
        "def plot_implied_volatility_reusing_simulations_different_maturities(maturities, list_inf_k, list_sup_k, number_k, number_simulations): # number_simulations is the number of simulations for Monte Carlo pricing, number_k is the number of k for which we are launching those simulations\n",
        "  # A list of maturities and a list of strikes for each maturity\n",
        "  cholesky = generate_cholesky()\n",
        "  number_maturities = maturities.shape[0]\n",
        "  list_k = np.array([np.linspace(list_inf_k[i], list_sup_k[i], number_k) for i in range (number_maturities)])\n",
        "  implied_volatilities = implied_volatility_reusing_simulations_different_maturities(cholesky, list_k, maturities, number_simulations)\n",
        "\n",
        "  plt.figure(figsize = (20, 10))\n",
        "\n",
        "  for i in range (number_maturities):\n",
        "    plt.subplot(2, 4, i + 1)\n",
        "    plt.xlabel(r\"Log-strike $k$\")\n",
        "    plt.ylabel(r\"Implied volatility $\\sigma_{BS}(k, T)$\")\n",
        "    plt.title(r\"$T = \" + str(maturities[i]) + \"$\")\n",
        "    plt.plot(list_k[i], implied_volatilities[i])\n",
        "  plt.show()"
      ],
      "execution_count": null,
      "outputs": []
    },
    {
      "cell_type": "markdown",
      "metadata": {
        "id": "ZhwnzcxswMEp"
      },
      "source": [
        "### Plotting ATM (at-the-money) volatility skew $\\psi(\\tau)$"
      ]
    },
    {
      "cell_type": "markdown",
      "metadata": {
        "id": "BzW0TEAi0l4H"
      },
      "source": [
        "#### Plotting $\\psi(\\tau) = f(\\tau)$"
      ]
    },
    {
      "cell_type": "code",
      "metadata": {
        "id": "h9c33kkAwSOo"
      },
      "source": [
        "def plot_at_the_money_skew_reusing_simulations(min_maturity, max_maturity, number_maturities, epsilon, number_simulations):\n",
        "  # maturities is a list of maturities, epsilon is the value of k used to compute the derivative at k = 0...\n",
        "  cholesky = generate_cholesky()\n",
        "  maturities = np.linspace(min_maturity, max_maturity, number_maturities)\n",
        "  list_k = np.array([[-epsilon, epsilon] for _ in range (number_maturities)])\n",
        "  implied_volatilities = implied_volatility_reusing_simulations_different_maturities(cholesky, list_k, maturities, number_simulations)\n",
        "  skews = np.abs(implied_volatilities[:, 1] - implied_volatilities[:, 0]) / (2 * epsilon)\n",
        "\n",
        "  plt.xlabel(r\"Maturity $\\tau$\")\n",
        "  plt.ylabel(r\"At the money volatility skew $\\psi(\\tau)$\")\n",
        "  plt.plot(maturities, skews)\n",
        "  plt.show()"
      ],
      "execution_count": null,
      "outputs": []
    },
    {
      "cell_type": "markdown",
      "metadata": {
        "id": "QQC-fjV10IQt"
      },
      "source": [
        "#### Plotting $\\log(\\psi(\\tau)) = f(\\log(\\tau))$"
      ]
    },
    {
      "cell_type": "code",
      "metadata": {
        "id": "YZDTwN5X0r3y"
      },
      "source": [
        "def plot_log_at_the_money_skew_reusing_simulations(min_maturity, max_maturity, number_maturities, epsilon, number_simulations):\n",
        "  # maturities is a list of maturities, epsilon is the value of k used to compute the derivative at k = 0...\n",
        "  cholesky = generate_cholesky()\n",
        "  maturities = np.linspace(min_maturity, max_maturity, number_maturities)\n",
        "  list_k = np.array([[-epsilon, epsilon] for _ in range (number_maturities)])\n",
        "  implied_volatilities = implied_volatility_reusing_simulations_different_maturities(cholesky, list_k, maturities, number_simulations)\n",
        "  skews = np.abs(implied_volatilities[:, 1] - implied_volatilities[:, 0]) / (2 * epsilon)\n",
        "\n",
        "  plt.xlabel(r\"Log-maturity $\\log(\\tau)$\")\n",
        "  plt.ylabel(r\"At the money volatility log-skew $\\log(\\psi(\\tau))$\")\n",
        "  plt.plot(np.log(maturities), np.log(skews), label = \"rBergomi model\", color = \"blue\")\n",
        "\n",
        "  # Linear regression\n",
        "  slope, intercept, r_value, p_value, std_err = scipy.stats.linregress(np.log(maturities), np.log(skews))\n",
        "  plt.plot(np.log(maturities), np.log(maturities) * slope + intercept, label = r\"Linear regression: $\" + str(round(slope, 3)) + \"\\log(\\\\tau) + (\" + str(round(intercept, 3)) + \")$\", color = \"red\", linestyle = \"dashed\")\n",
        "  plt.legend(loc = 'best')\n",
        "  plt.show()\n",
        "  print(\"r = \", r_value)"
      ],
      "execution_count": null,
      "outputs": []
    },
    {
      "cell_type": "markdown",
      "metadata": {
        "id": "7SXRiFES7TCD"
      },
      "source": [
        "### Reproducing plots from the article"
      ]
    },
    {
      "cell_type": "markdown",
      "metadata": {
        "id": "Q7j6T9UK7oBq"
      },
      "source": [
        "#### $T = 0.041$, $k \\in [-0.3, 0.1]$, $H = 0.07$, $\\eta = 1.9$, $\\rho = -0.9$"
      ]
    },
    {
      "cell_type": "code",
      "metadata": {
        "id": "lRxEKzIj7W1G"
      },
      "source": [
        "H = 0.07\n",
        "eta = 1.9\n",
        "rho = -0.9\n",
        "xi0 = 0.14\n",
        "T = 0.041\n",
        "m = 100  # number of time steps between 0 and T\n",
        "delta = T / m # duration of a time step\n",
        "gamma = 0.5 - H\n",
        "DH = ((2 * H) ** 0.5) / (H + 0.5)\n",
        "time = np.array([i * delta for i in range (m + 1)])\n",
        "v0 = xi0\n",
        "S0 = 1"
      ],
      "execution_count": null,
      "outputs": []
    },
    {
      "cell_type": "code",
      "metadata": {
        "id": "EiNCl5rF8Tq7"
      },
      "source": [
        "# plot_implied_volatility(0.041, -0.3, 0.2, 20, 10000)"
      ],
      "execution_count": null,
      "outputs": []
    },
    {
      "cell_type": "code",
      "metadata": {
        "id": "VGii2u8O9hrf"
      },
      "source": [
        "# plot_implied_volatility_reusing_simulations(0.041, -0.3, 0.2, 20, 100000)"
      ],
      "execution_count": null,
      "outputs": []
    },
    {
      "cell_type": "markdown",
      "metadata": {
        "id": "ox0KydPT-7KN"
      },
      "source": [
        "$H = 0.07$, $\\eta = 1.9$, $\\rho = -0.9$ (page 19)"
      ]
    },
    {
      "cell_type": "code",
      "metadata": {
        "id": "d8cRN7BY-9rv"
      },
      "source": [
        "H = 0.07\n",
        "eta = 1.9\n",
        "rho = -0.9\n",
        "xi0 = 0.13\n",
        "T = 0.4\n",
        "m = 100  # number of time steps between 0 and T\n",
        "delta = T / m # duration of a time step\n",
        "gamma = 0.5 - H\n",
        "DH = ((2 * H) ** 0.5) / (H + 0.5)\n",
        "time = np.array([i * delta for i in range (m + 1)])\n",
        "v0 = xi0\n",
        "S0 = 1"
      ],
      "execution_count": null,
      "outputs": []
    },
    {
      "cell_type": "code",
      "metadata": {
        "id": "bnvR5-d0_WRo"
      },
      "source": [
        "# maturities = np.array([0.041, 0.12, 0.15, 0.19, 0.29, 0.37, 0.40, 0.62, 0.65, 0.87, 0.90, 1.36, 1.86, 2.88])\n",
        "# list_inf_k = np.array([-0.3, -0.5, -0.45, -0.45, -0.6, -1.0, -0.8, -1.0, -0.8, -1.7, -0.9, -1.7, -2.5, -2.5])\n",
        "# list_sup_k = np.array([0.15, 0.2, 0.15, 0.2, 0.25, 0.3, 0.25, 0.25, 0.3, 0.65, 0.4, 0.5, 0.7, 0.7])"
      ],
      "execution_count": null,
      "outputs": []
    },
    {
      "cell_type": "code",
      "metadata": {
        "id": "L4LZ64UXIOW-"
      },
      "source": [
        "maturities = np.array([0.041, 0.12, 0.15, 0.19, 0.29, 0.37, 0.40])\n",
        "list_inf_k = np.array([-0.3, -0.5, -0.45, -0.45, -0.6, -1.0, -0.8])\n",
        "list_sup_k = np.array([0.15, 0.2, 0.15, 0.2, 0.25, 0.3, 0.25])"
      ],
      "execution_count": null,
      "outputs": []
    },
    {
      "cell_type": "code",
      "metadata": {
        "colab": {
          "base_uri": "https://localhost:8080/",
          "height": 657,
          "referenced_widgets": [
            "673f1d86d3264ee0948904431aa7ec55",
            "2d1b0ffca01d4583a69208dcc5b913f2",
            "5ce45e4358f14209a18abfd254fc49c0",
            "3d6a8e09a4454c59b0cfa9cf620ee540",
            "822edf5ecf50421a9bdd26bfd0ef7124",
            "e3671d163d204abab2d945ba44aec855",
            "f171df4ec0df4984804f2b986139941e",
            "f417c010b05b48d5a137e6db17a0268d",
            "3249597e2cff41a0abea72dcec603041",
            "ab1e9ec660b44c64a4274c591ad55d01",
            "96a99fc94ee442de9299439c37131019"
          ]
        },
        "id": "6FTM_BkRAfFO",
        "outputId": "81c94620-8618-4483-8bb0-dc90f4b6a0b7"
      },
      "source": [
        "plot_implied_volatility_reusing_simulations_different_maturities(maturities, list_inf_k, list_sup_k, 50, 100000)"
      ],
      "execution_count": null,
      "outputs": [
        {
          "output_type": "display_data",
          "data": {
            "application/vnd.jupyter.widget-view+json": {
              "model_id": "673f1d86d3264ee0948904431aa7ec55",
              "version_minor": 0,
              "version_major": 2
            },
            "text/plain": [
              "  0%|          | 0/100000 [00:00<?, ?it/s]"
            ]
          },
          "metadata": {}
        },
        {
          "output_type": "display_data",
          "data": {
            "image/png": "[encoded data removed]",
            "text/plain": [
              "<Figure size 1440x720 with 7 Axes>"
            ]
          },
          "metadata": {
            "needs_background": "light"
          }
        }
      ]
    },
    {
      "cell_type": "code",
      "metadata": {
        "id": "RC7FJmgaH1DA",
        "colab": {
          "base_uri": "https://localhost:8080/",
          "height": 315,
          "referenced_widgets": [
            "d02bec4b4a254026bb638e36831c7830",
            "73b940ea73d2420cbba50310bd7a97df",
            "542748befebc45618c53eb3301a100ea",
            "1ef3455663ec4c769c606b5c73585f44",
            "ad330a3664de4c449bfb80462274cf4a",
            "4fdea549a0654949bc1f5a31553e23d0",
            "0d31f08d6ae54949bbbe04a5cdf85b6c",
            "f9be0eea32614539a6d1db12d8f03cfb",
            "8ac75d182d9c43a682b507e584545069",
            "ed1838bf0c11491c9384d081df16670c",
            "f4cbc602a875462dadd4d73fca74880d"
          ]
        },
        "outputId": "370c7371-f6c0-47d6-9dad-352403915c6f"
      },
      "source": [
        "plot_at_the_money_skew_reusing_simulations(0.025, 0.4, 50, 1e-9, 100000)"
      ],
      "execution_count": null,
      "outputs": [
        {
          "output_type": "display_data",
          "data": {
            "application/vnd.jupyter.widget-view+json": {
              "model_id": "d02bec4b4a254026bb638e36831c7830",
              "version_minor": 0,
              "version_major": 2
            },
            "text/plain": [
              "  0%|          | 0/100000 [00:00<?, ?it/s]"
            ]
          },
          "metadata": {}
        },
        {
          "output_type": "display_data",
          "data": {
            "image/png": "[encoded data removed]",
            "text/plain": [
              "<Figure size 432x288 with 1 Axes>"
            ]
          },
          "metadata": {
            "needs_background": "light"
          }
        }
      ]
    },
    {
      "cell_type": "code",
      "metadata": {
        "colab": {
          "base_uri": "https://localhost:8080/",
          "height": 332,
          "referenced_widgets": [
            "07852665b7154b72bb07692ed2c7a353",
            "88dd24beab0c4fbcb27766b7981fd86a",
            "975af029736b435c92f7bf8a42a636d4",
            "7084c3600e99418c94f8ec80ba45bac6",
            "b385cdc3036049cabaca4a7f89f77196",
            "2e6264027ec74e4792ab0e2f3ef3be87",
            "4ed33ef2a38941229c99bfa7d0898037",
            "5a5d09cff9b048f9bace236699f545f1",
            "31fef2be94294c4b91f0d18723dea0bf",
            "53d871c5da134053876e563cd875e230",
            "36b41698d2c24e8f9906bfbb631b68db"
          ]
        },
        "id": "HY4afJhSztMw",
        "outputId": "1c07cd09-358e-4def-8c27-aa1ec1e4140a"
      },
      "source": [
        "plot_log_at_the_money_skew_reusing_simulations(0.025, 0.4, 30, 1e-9, 100000)"
      ],
      "execution_count": null,
      "outputs": [
        {
          "output_type": "display_data",
          "data": {
            "application/vnd.jupyter.widget-view+json": {
              "model_id": "07852665b7154b72bb07692ed2c7a353",
              "version_minor": 0,
              "version_major": 2
            },
            "text/plain": [
              "  0%|          | 0/100000 [00:00<?, ?it/s]"
            ]
          },
          "metadata": {}
        },
        {
          "output_type": "display_data",
          "data": {
            "image/png": "[encoded data removed]",
            "text/plain": [
              "<Figure size 432x288 with 1 Axes>"
            ]
          },
          "metadata": {
            "needs_background": "light"
          }
        },
        {
          "output_type": "stream",
          "name": "stdout",
          "text": [
            "r =  -0.9955968761587414\n"
          ]
        }
      ]
    },
    {
      "cell_type": "code",
      "metadata": {
        "id": "f9b4V2qc03oc"
      },
      "source": [],
      "execution_count": null,
      "outputs": []
    }
  ]
}